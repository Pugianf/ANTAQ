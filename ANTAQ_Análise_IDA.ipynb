{
  "nbformat": 4,
  "nbformat_minor": 0,
  "metadata": {
    "colab": {
      "name": "ANTAQ - Análise IDA.ipynb",
      "provenance": [],
      "authorship_tag": "ABX9TyPFhNr6jezFZONiqF8kqVuS",
      "include_colab_link": true
    },
    "kernelspec": {
      "name": "python3",
      "display_name": "Python 3"
    },
    "language_info": {
      "name": "python"
    }
  },
  "cells": [
    {
      "cell_type": "markdown",
      "metadata": {
        "id": "view-in-github",
        "colab_type": "text"
      },
      "source": [
        "<a href=\"https://colab.research.google.com/github/Pugianf/ANTAQ/blob/main/ANTAQ_An%C3%A1lise_IDA.ipynb\" target=\"_parent\"><img src=\"https://colab.research.google.com/assets/colab-badge.svg\" alt=\"Open In Colab\"/></a>"
      ]
    },
    {
      "cell_type": "code",
      "execution_count": 9,
      "metadata": {
        "id": "qRHbIyRKZJXt"
      },
      "outputs": [],
      "source": [
        "# installing librarys\n",
        "\n",
        "!pip install tabula-py\n",
        "clear_output()"
      ]
    },
    {
      "cell_type": "code",
      "source": [
        "# importing\n",
        "\n",
        "import numpy as np\n",
        "import pandas as pd\n",
        "import tabula\n",
        "from IPython.display import clear_output"
      ],
      "metadata": {
        "id": "b8arG_ouJu8u"
      },
      "execution_count": 8,
      "outputs": []
    },
    {
      "cell_type": "code",
      "source": [
        "# connecting drive\n",
        "\n",
        "from google.colab import drive\n",
        "drive.mount('/content/drive')\n",
        "clear_output()"
      ],
      "metadata": {
        "colab": {
          "base_uri": "https://localhost:8080/"
        },
        "id": "i3HfIvdoZLA_",
        "outputId": "ab8c7a7f-ec88-436b-cbd0-971f866ec9f3"
      },
      "execution_count": 3,
      "outputs": [
        {
          "output_type": "stream",
          "name": "stdout",
          "text": [
            "Mounted at /content/drive\n"
          ]
        }
      ]
    },
    {
      "cell_type": "code",
      "source": [
        "# creating an empty DataFrame\n",
        "\n",
        "df = pd.DataFrame()"
      ],
      "metadata": {
        "id": "eC4WgCmsyQab"
      },
      "execution_count": 72,
      "outputs": []
    },
    {
      "cell_type": "code",
      "source": [
        "# list of IDA years - excepting the first one \"2015.2\"\n",
        "\n",
        "IDA_portos_years = [2015, 2016, 2017, 2018, 2019, 2020]"
      ],
      "metadata": {
        "id": "tY131wjG2yzO"
      },
      "execution_count": 73,
      "outputs": []
    },
    {
      "cell_type": "code",
      "source": [
        "# loop for reading the original data and concat to df\n",
        "\n",
        "for count, value in enumerate(IDA_portos_years):\n",
        "  file = f'/content/drive/MyDrive/IDP/Dataset/RelRankingIDA_{count}.pdf'\n",
        "  table = tabula.read_pdf(file,pages='all')\n",
        "  frames = [table[0], table[1]]\n",
        "  final_table = pd.concat(frames)\n",
        "  final_table['Ano'] = value\n",
        "  final_table.drop(columns='Instalação', inplace=True)\n",
        "  final_frame = [df, final_table]\n",
        "  df = pd.concat(final_frame)"
      ],
      "metadata": {
        "id": "plOlubwB24vr"
      },
      "execution_count": 74,
      "outputs": []
    },
    {
      "cell_type": "code",
      "source": [
        "# wrangling the final DataFrame\n",
        "\n",
        "df.rename(columns={'Unnamed: 0':'Porto'}, inplace=True)\n",
        "\n",
        "df.set_index('Ano', inplace=True)\n",
        "\n",
        "df"
      ],
      "metadata": {
        "colab": {
          "base_uri": "https://localhost:8080/",
          "height": 455
        },
        "id": "z9Li55y64UYD",
        "outputId": "6b025ad5-cda5-4f1b-8227-8c93d1d257e2"
      },
      "execution_count": 78,
      "outputs": [
        {
          "output_type": "execute_result",
          "data": {
            "text/html": [
              "\n",
              "  <div id=\"df-a08676bc-34d3-4a2d-9dda-68046c5006f8\">\n",
              "    <div class=\"colab-df-container\">\n",
              "      <div>\n",
              "<style scoped>\n",
              "    .dataframe tbody tr th:only-of-type {\n",
              "        vertical-align: middle;\n",
              "    }\n",
              "\n",
              "    .dataframe tbody tr th {\n",
              "        vertical-align: top;\n",
              "    }\n",
              "\n",
              "    .dataframe thead th {\n",
              "        text-align: right;\n",
              "    }\n",
              "</style>\n",
              "<table border=\"1\" class=\"dataframe\">\n",
              "  <thead>\n",
              "    <tr style=\"text-align: right;\">\n",
              "      <th></th>\n",
              "      <th>Posição</th>\n",
              "      <th>Porto</th>\n",
              "      <th>IDA</th>\n",
              "    </tr>\n",
              "    <tr>\n",
              "      <th>Ano</th>\n",
              "      <th></th>\n",
              "      <th></th>\n",
              "      <th></th>\n",
              "    </tr>\n",
              "  </thead>\n",
              "  <tbody>\n",
              "    <tr>\n",
              "      <th>2015</th>\n",
              "      <td>1</td>\n",
              "      <td>São Sebastião</td>\n",
              "      <td>99,37</td>\n",
              "    </tr>\n",
              "    <tr>\n",
              "      <th>2015</th>\n",
              "      <td>2</td>\n",
              "      <td>Itajaí</td>\n",
              "      <td>93,74</td>\n",
              "    </tr>\n",
              "    <tr>\n",
              "      <th>2015</th>\n",
              "      <td>3</td>\n",
              "      <td>Itaqui</td>\n",
              "      <td>89,32</td>\n",
              "    </tr>\n",
              "    <tr>\n",
              "      <th>2015</th>\n",
              "      <td>4</td>\n",
              "      <td>Suape</td>\n",
              "      <td>83,66</td>\n",
              "    </tr>\n",
              "    <tr>\n",
              "      <th>2015</th>\n",
              "      <td>5</td>\n",
              "      <td>Paranaguá</td>\n",
              "      <td>83,11</td>\n",
              "    </tr>\n",
              "    <tr>\n",
              "      <th>...</th>\n",
              "      <td>...</td>\n",
              "      <td>...</td>\n",
              "      <td>...</td>\n",
              "    </tr>\n",
              "    <tr>\n",
              "      <th>2020</th>\n",
              "      <td>27</td>\n",
              "      <td>Pelotas</td>\n",
              "      <td>52,70</td>\n",
              "    </tr>\n",
              "    <tr>\n",
              "      <th>2020</th>\n",
              "      <td>28</td>\n",
              "      <td>Porto Velho</td>\n",
              "      <td>44,68</td>\n",
              "    </tr>\n",
              "    <tr>\n",
              "      <th>2020</th>\n",
              "      <td>29</td>\n",
              "      <td>Forno</td>\n",
              "      <td>39,63</td>\n",
              "    </tr>\n",
              "    <tr>\n",
              "      <th>2020</th>\n",
              "      <td>30</td>\n",
              "      <td>Santana</td>\n",
              "      <td>39,33</td>\n",
              "    </tr>\n",
              "    <tr>\n",
              "      <th>2020</th>\n",
              "      <td>31</td>\n",
              "      <td>Porto Alegre</td>\n",
              "      <td>31,25</td>\n",
              "    </tr>\n",
              "  </tbody>\n",
              "</table>\n",
              "<p>184 rows × 3 columns</p>\n",
              "</div>\n",
              "      <button class=\"colab-df-convert\" onclick=\"convertToInteractive('df-a08676bc-34d3-4a2d-9dda-68046c5006f8')\"\n",
              "              title=\"Convert this dataframe to an interactive table.\"\n",
              "              style=\"display:none;\">\n",
              "        \n",
              "  <svg xmlns=\"http://www.w3.org/2000/svg\" height=\"24px\"viewBox=\"0 0 24 24\"\n",
              "       width=\"24px\">\n",
              "    <path d=\"M0 0h24v24H0V0z\" fill=\"none\"/>\n",
              "    <path d=\"M18.56 5.44l.94 2.06.94-2.06 2.06-.94-2.06-.94-.94-2.06-.94 2.06-2.06.94zm-11 1L8.5 8.5l.94-2.06 2.06-.94-2.06-.94L8.5 2.5l-.94 2.06-2.06.94zm10 10l.94 2.06.94-2.06 2.06-.94-2.06-.94-.94-2.06-.94 2.06-2.06.94z\"/><path d=\"M17.41 7.96l-1.37-1.37c-.4-.4-.92-.59-1.43-.59-.52 0-1.04.2-1.43.59L10.3 9.45l-7.72 7.72c-.78.78-.78 2.05 0 2.83L4 21.41c.39.39.9.59 1.41.59.51 0 1.02-.2 1.41-.59l7.78-7.78 2.81-2.81c.8-.78.8-2.07 0-2.86zM5.41 20L4 18.59l7.72-7.72 1.47 1.35L5.41 20z\"/>\n",
              "  </svg>\n",
              "      </button>\n",
              "      \n",
              "  <style>\n",
              "    .colab-df-container {\n",
              "      display:flex;\n",
              "      flex-wrap:wrap;\n",
              "      gap: 12px;\n",
              "    }\n",
              "\n",
              "    .colab-df-convert {\n",
              "      background-color: #E8F0FE;\n",
              "      border: none;\n",
              "      border-radius: 50%;\n",
              "      cursor: pointer;\n",
              "      display: none;\n",
              "      fill: #1967D2;\n",
              "      height: 32px;\n",
              "      padding: 0 0 0 0;\n",
              "      width: 32px;\n",
              "    }\n",
              "\n",
              "    .colab-df-convert:hover {\n",
              "      background-color: #E2EBFA;\n",
              "      box-shadow: 0px 1px 2px rgba(60, 64, 67, 0.3), 0px 1px 3px 1px rgba(60, 64, 67, 0.15);\n",
              "      fill: #174EA6;\n",
              "    }\n",
              "\n",
              "    [theme=dark] .colab-df-convert {\n",
              "      background-color: #3B4455;\n",
              "      fill: #D2E3FC;\n",
              "    }\n",
              "\n",
              "    [theme=dark] .colab-df-convert:hover {\n",
              "      background-color: #434B5C;\n",
              "      box-shadow: 0px 1px 3px 1px rgba(0, 0, 0, 0.15);\n",
              "      filter: drop-shadow(0px 1px 2px rgba(0, 0, 0, 0.3));\n",
              "      fill: #FFFFFF;\n",
              "    }\n",
              "  </style>\n",
              "\n",
              "      <script>\n",
              "        const buttonEl =\n",
              "          document.querySelector('#df-a08676bc-34d3-4a2d-9dda-68046c5006f8 button.colab-df-convert');\n",
              "        buttonEl.style.display =\n",
              "          google.colab.kernel.accessAllowed ? 'block' : 'none';\n",
              "\n",
              "        async function convertToInteractive(key) {\n",
              "          const element = document.querySelector('#df-a08676bc-34d3-4a2d-9dda-68046c5006f8');\n",
              "          const dataTable =\n",
              "            await google.colab.kernel.invokeFunction('convertToInteractive',\n",
              "                                                     [key], {});\n",
              "          if (!dataTable) return;\n",
              "\n",
              "          const docLinkHtml = 'Like what you see? Visit the ' +\n",
              "            '<a target=\"_blank\" href=https://colab.research.google.com/notebooks/data_table.ipynb>data table notebook</a>'\n",
              "            + ' to learn more about interactive tables.';\n",
              "          element.innerHTML = '';\n",
              "          dataTable['output_type'] = 'display_data';\n",
              "          await google.colab.output.renderOutput(dataTable, element);\n",
              "          const docLink = document.createElement('div');\n",
              "          docLink.innerHTML = docLinkHtml;\n",
              "          element.appendChild(docLink);\n",
              "        }\n",
              "      </script>\n",
              "    </div>\n",
              "  </div>\n",
              "  "
            ],
            "text/plain": [
              "      Posição          Porto    IDA\n",
              "Ano                                \n",
              "2015        1  São Sebastião  99,37\n",
              "2015        2         Itajaí  93,74\n",
              "2015        3         Itaqui  89,32\n",
              "2015        4          Suape  83,66\n",
              "2015        5      Paranaguá  83,11\n",
              "...       ...            ...    ...\n",
              "2020       27        Pelotas  52,70\n",
              "2020       28    Porto Velho  44,68\n",
              "2020       29          Forno  39,63\n",
              "2020       30        Santana  39,33\n",
              "2020       31   Porto Alegre  31,25\n",
              "\n",
              "[184 rows x 3 columns]"
            ]
          },
          "metadata": {},
          "execution_count": 78
        }
      ]
    }
  ]
}
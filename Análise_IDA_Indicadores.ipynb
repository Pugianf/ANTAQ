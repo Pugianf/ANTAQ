{
  "nbformat": 4,
  "nbformat_minor": 0,
  "metadata": {
    "colab": {
      "name": "Análise_IDA_Indicadores.ipynb",
      "provenance": [],
      "mount_file_id": "1J4SVOx9MYrJauiMWPEUPT_yv76iTEIQs",
      "authorship_tag": "ABX9TyPz3L3jP/Z966BBGV1GNfN3",
      "include_colab_link": true
    },
    "kernelspec": {
      "name": "python3",
      "display_name": "Python 3"
    },
    "language_info": {
      "name": "python"
    }
  },
  "cells": [
    {
      "cell_type": "markdown",
      "metadata": {
        "id": "view-in-github",
        "colab_type": "text"
      },
      "source": [
        "<a href=\"https://colab.research.google.com/github/Pugianf/ANTAQ/blob/main/An%C3%A1lise_IDA_Indicadores.ipynb\" target=\"_parent\"><img src=\"https://colab.research.google.com/assets/colab-badge.svg\" alt=\"Open In Colab\"/></a>"
      ]
    },
    {
      "cell_type": "markdown",
      "source": [
        "<h1>Data Analysis of IDA Indicators</h1>"
      ],
      "metadata": {
        "id": "wxyVpuWuCPUP"
      }
    },
    {
      "cell_type": "markdown",
      "source": [
        "### Settings\n"
      ],
      "metadata": {
        "id": "0zLLVDXGDVgc"
      }
    },
    {
      "cell_type": "code",
      "source": [
        "# importing libraries\n",
        "\n",
        "import pandas as pd\n",
        "import numpy as np"
      ],
      "metadata": {
        "id": "8vmrQAFlDcB5"
      },
      "execution_count": 1,
      "outputs": []
    },
    {
      "cell_type": "code",
      "source": [
        "# connecting google drive\n",
        "\n",
        "from google.colab import drive\n",
        "drive.mount('/content/drive')"
      ],
      "metadata": {
        "colab": {
          "base_uri": "https://localhost:8080/"
        },
        "id": "5Rc5vFmVDmqX",
        "outputId": "23676c84-4a28-40f8-f0fc-564bf4554b5f"
      },
      "execution_count": 2,
      "outputs": [
        {
          "output_type": "stream",
          "name": "stdout",
          "text": [
            "Drive already mounted at /content/drive; to attempt to forcibly remount, call drive.mount(\"/content/drive\", force_remount=True).\n"
          ]
        }
      ]
    },
    {
      "cell_type": "markdown",
      "source": [
        "### Importing CSV"
      ],
      "metadata": {
        "id": "8_difqnyDP07"
      }
    },
    {
      "cell_type": "code",
      "source": [
        "# encoding latin1 needed for brazilian symbols \n",
        "\n",
        "df = pd.read_csv('/content/drive/MyDrive/ANTAQ/Datasets/IDA/database.csv', encoding='latin1', sep=';')"
      ],
      "metadata": {
        "id": "AGCRZ5OJEw5g"
      },
      "execution_count": 22,
      "outputs": []
    },
    {
      "cell_type": "code",
      "source": [
        "# describing DataFrame\n",
        "\n",
        "df.describe()"
      ],
      "metadata": {
        "colab": {
          "base_uri": "https://localhost:8080/",
          "height": 300
        },
        "id": "UUCGkrsTE1hq",
        "outputId": "24c77710-1402-4f04-8500-848b25152aa2"
      },
      "execution_count": 23,
      "outputs": [
        {
          "output_type": "execute_result",
          "data": {
            "text/html": [
              "\n",
              "  <div id=\"df-fa772f27-6b04-4721-adbd-5e47ed37a914\">\n",
              "    <div class=\"colab-df-container\">\n",
              "      <div>\n",
              "<style scoped>\n",
              "    .dataframe tbody tr th:only-of-type {\n",
              "        vertical-align: middle;\n",
              "    }\n",
              "\n",
              "    .dataframe tbody tr th {\n",
              "        vertical-align: top;\n",
              "    }\n",
              "\n",
              "    .dataframe thead th {\n",
              "        text-align: right;\n",
              "    }\n",
              "</style>\n",
              "<table border=\"1\" class=\"dataframe\">\n",
              "  <thead>\n",
              "    <tr style=\"text-align: right;\">\n",
              "      <th></th>\n",
              "      <th>TipoAtributo</th>\n",
              "      <th>CategoriaQuestionario</th>\n",
              "    </tr>\n",
              "  </thead>\n",
              "  <tbody>\n",
              "    <tr>\n",
              "      <th>count</th>\n",
              "      <td>53028.000000</td>\n",
              "      <td>53028.000000</td>\n",
              "    </tr>\n",
              "    <tr>\n",
              "      <th>mean</th>\n",
              "      <td>1.852380</td>\n",
              "      <td>1.724372</td>\n",
              "    </tr>\n",
              "    <tr>\n",
              "      <th>std</th>\n",
              "      <td>1.919969</td>\n",
              "      <td>1.013770</td>\n",
              "    </tr>\n",
              "    <tr>\n",
              "      <th>min</th>\n",
              "      <td>0.000000</td>\n",
              "      <td>1.000000</td>\n",
              "    </tr>\n",
              "    <tr>\n",
              "      <th>25%</th>\n",
              "      <td>0.000000</td>\n",
              "      <td>1.000000</td>\n",
              "    </tr>\n",
              "    <tr>\n",
              "      <th>50%</th>\n",
              "      <td>0.000000</td>\n",
              "      <td>1.000000</td>\n",
              "    </tr>\n",
              "    <tr>\n",
              "      <th>75%</th>\n",
              "      <td>4.000000</td>\n",
              "      <td>3.000000</td>\n",
              "    </tr>\n",
              "    <tr>\n",
              "      <th>max</th>\n",
              "      <td>4.000000</td>\n",
              "      <td>4.000000</td>\n",
              "    </tr>\n",
              "  </tbody>\n",
              "</table>\n",
              "</div>\n",
              "      <button class=\"colab-df-convert\" onclick=\"convertToInteractive('df-fa772f27-6b04-4721-adbd-5e47ed37a914')\"\n",
              "              title=\"Convert this dataframe to an interactive table.\"\n",
              "              style=\"display:none;\">\n",
              "        \n",
              "  <svg xmlns=\"http://www.w3.org/2000/svg\" height=\"24px\"viewBox=\"0 0 24 24\"\n",
              "       width=\"24px\">\n",
              "    <path d=\"M0 0h24v24H0V0z\" fill=\"none\"/>\n",
              "    <path d=\"M18.56 5.44l.94 2.06.94-2.06 2.06-.94-2.06-.94-.94-2.06-.94 2.06-2.06.94zm-11 1L8.5 8.5l.94-2.06 2.06-.94-2.06-.94L8.5 2.5l-.94 2.06-2.06.94zm10 10l.94 2.06.94-2.06 2.06-.94-2.06-.94-.94-2.06-.94 2.06-2.06.94z\"/><path d=\"M17.41 7.96l-1.37-1.37c-.4-.4-.92-.59-1.43-.59-.52 0-1.04.2-1.43.59L10.3 9.45l-7.72 7.72c-.78.78-.78 2.05 0 2.83L4 21.41c.39.39.9.59 1.41.59.51 0 1.02-.2 1.41-.59l7.78-7.78 2.81-2.81c.8-.78.8-2.07 0-2.86zM5.41 20L4 18.59l7.72-7.72 1.47 1.35L5.41 20z\"/>\n",
              "  </svg>\n",
              "      </button>\n",
              "      \n",
              "  <style>\n",
              "    .colab-df-container {\n",
              "      display:flex;\n",
              "      flex-wrap:wrap;\n",
              "      gap: 12px;\n",
              "    }\n",
              "\n",
              "    .colab-df-convert {\n",
              "      background-color: #E8F0FE;\n",
              "      border: none;\n",
              "      border-radius: 50%;\n",
              "      cursor: pointer;\n",
              "      display: none;\n",
              "      fill: #1967D2;\n",
              "      height: 32px;\n",
              "      padding: 0 0 0 0;\n",
              "      width: 32px;\n",
              "    }\n",
              "\n",
              "    .colab-df-convert:hover {\n",
              "      background-color: #E2EBFA;\n",
              "      box-shadow: 0px 1px 2px rgba(60, 64, 67, 0.3), 0px 1px 3px 1px rgba(60, 64, 67, 0.15);\n",
              "      fill: #174EA6;\n",
              "    }\n",
              "\n",
              "    [theme=dark] .colab-df-convert {\n",
              "      background-color: #3B4455;\n",
              "      fill: #D2E3FC;\n",
              "    }\n",
              "\n",
              "    [theme=dark] .colab-df-convert:hover {\n",
              "      background-color: #434B5C;\n",
              "      box-shadow: 0px 1px 3px 1px rgba(0, 0, 0, 0.15);\n",
              "      filter: drop-shadow(0px 1px 2px rgba(0, 0, 0, 0.3));\n",
              "      fill: #FFFFFF;\n",
              "    }\n",
              "  </style>\n",
              "\n",
              "      <script>\n",
              "        const buttonEl =\n",
              "          document.querySelector('#df-fa772f27-6b04-4721-adbd-5e47ed37a914 button.colab-df-convert');\n",
              "        buttonEl.style.display =\n",
              "          google.colab.kernel.accessAllowed ? 'block' : 'none';\n",
              "\n",
              "        async function convertToInteractive(key) {\n",
              "          const element = document.querySelector('#df-fa772f27-6b04-4721-adbd-5e47ed37a914');\n",
              "          const dataTable =\n",
              "            await google.colab.kernel.invokeFunction('convertToInteractive',\n",
              "                                                     [key], {});\n",
              "          if (!dataTable) return;\n",
              "\n",
              "          const docLinkHtml = 'Like what you see? Visit the ' +\n",
              "            '<a target=\"_blank\" href=https://colab.research.google.com/notebooks/data_table.ipynb>data table notebook</a>'\n",
              "            + ' to learn more about interactive tables.';\n",
              "          element.innerHTML = '';\n",
              "          dataTable['output_type'] = 'display_data';\n",
              "          await google.colab.output.renderOutput(dataTable, element);\n",
              "          const docLink = document.createElement('div');\n",
              "          docLink.innerHTML = docLinkHtml;\n",
              "          element.appendChild(docLink);\n",
              "        }\n",
              "      </script>\n",
              "    </div>\n",
              "  </div>\n",
              "  "
            ],
            "text/plain": [
              "       TipoAtributo  CategoriaQuestionario\n",
              "count  53028.000000           53028.000000\n",
              "mean       1.852380               1.724372\n",
              "std        1.919969               1.013770\n",
              "min        0.000000               1.000000\n",
              "25%        0.000000               1.000000\n",
              "50%        0.000000               1.000000\n",
              "75%        4.000000               3.000000\n",
              "max        4.000000               4.000000"
            ]
          },
          "metadata": {},
          "execution_count": 23
        }
      ]
    },
    {
      "cell_type": "code",
      "source": [
        "# checking NaN values on DataFrame\n",
        "\n",
        "df.isnull().values.any()"
      ],
      "metadata": {
        "colab": {
          "base_uri": "https://localhost:8080/"
        },
        "id": "Upy-Y_NKFOUm",
        "outputId": "5fff0fcd-8261-4580-f6c1-4152e5469139"
      },
      "execution_count": 24,
      "outputs": [
        {
          "output_type": "execute_result",
          "data": {
            "text/plain": [
              "False"
            ]
          },
          "metadata": {},
          "execution_count": 24
        }
      ]
    },
    {
      "cell_type": "code",
      "source": [
        "# showing df\n",
        "\n",
        "df"
      ],
      "metadata": {
        "colab": {
          "base_uri": "https://localhost:8080/",
          "height": 424
        },
        "id": "FHEt2wfVT6S-",
        "outputId": "f67e8120-3db2-4851-be49-0710650ef467"
      },
      "execution_count": 25,
      "outputs": [
        {
          "output_type": "execute_result",
          "data": {
            "text/html": [
              "\n",
              "  <div id=\"df-46670dd6-ebaa-4cf0-8bad-a3f8677f026f\">\n",
              "    <div class=\"colab-df-container\">\n",
              "      <div>\n",
              "<style scoped>\n",
              "    .dataframe tbody tr th:only-of-type {\n",
              "        vertical-align: middle;\n",
              "    }\n",
              "\n",
              "    .dataframe tbody tr th {\n",
              "        vertical-align: top;\n",
              "    }\n",
              "\n",
              "    .dataframe thead th {\n",
              "        text-align: right;\n",
              "    }\n",
              "</style>\n",
              "<table border=\"1\" class=\"dataframe\">\n",
              "  <thead>\n",
              "    <tr style=\"text-align: right;\">\n",
              "      <th></th>\n",
              "      <th>CD</th>\n",
              "      <th>TipoAtributo</th>\n",
              "      <th>AtributoQuestionario</th>\n",
              "      <th>Peso</th>\n",
              "      <th>IndicadorEspecifico</th>\n",
              "      <th>CategoriaQuestionario</th>\n",
              "      <th>IndicadorGlobal</th>\n",
              "      <th>NOCategoria</th>\n",
              "      <th>Ano</th>\n",
              "    </tr>\n",
              "  </thead>\n",
              "  <tbody>\n",
              "    <tr>\n",
              "      <th>0</th>\n",
              "      <td>249</td>\n",
              "      <td>0</td>\n",
              "      <td>N3</td>\n",
              "      <td>15,07224371</td>\n",
              "      <td>1.1.1.</td>\n",
              "      <td>1.0</td>\n",
              "      <td>1.1.</td>\n",
              "      <td>Econômico-Operacionais</td>\n",
              "      <td>2015.2</td>\n",
              "    </tr>\n",
              "    <tr>\n",
              "      <th>1</th>\n",
              "      <td>249</td>\n",
              "      <td>3</td>\n",
              "      <td>Número da Licença</td>\n",
              "      <td>0</td>\n",
              "      <td>1.1.1.</td>\n",
              "      <td>1.0</td>\n",
              "      <td>1.1.</td>\n",
              "      <td>Econômico-Operacionais</td>\n",
              "      <td>2015.2</td>\n",
              "    </tr>\n",
              "    <tr>\n",
              "      <th>2</th>\n",
              "      <td>249</td>\n",
              "      <td>2</td>\n",
              "      <td>Data de Expedição</td>\n",
              "      <td>0</td>\n",
              "      <td>1.1.1.</td>\n",
              "      <td>1.0</td>\n",
              "      <td>1.1.</td>\n",
              "      <td>Econômico-Operacionais</td>\n",
              "      <td>2015.2</td>\n",
              "    </tr>\n",
              "    <tr>\n",
              "      <th>3</th>\n",
              "      <td>249</td>\n",
              "      <td>2</td>\n",
              "      <td>Data de Validade</td>\n",
              "      <td>0</td>\n",
              "      <td>1.1.1.</td>\n",
              "      <td>1.0</td>\n",
              "      <td>1.1.</td>\n",
              "      <td>Econômico-Operacionais</td>\n",
              "      <td>2015.2</td>\n",
              "    </tr>\n",
              "    <tr>\n",
              "      <th>4</th>\n",
              "      <td>249</td>\n",
              "      <td>0</td>\n",
              "      <td>N1</td>\n",
              "      <td>0</td>\n",
              "      <td>1.1.2.</td>\n",
              "      <td>1.0</td>\n",
              "      <td>1.1.</td>\n",
              "      <td>Econômico-Operacionais</td>\n",
              "      <td>2015.2</td>\n",
              "    </tr>\n",
              "    <tr>\n",
              "      <th>...</th>\n",
              "      <td>...</td>\n",
              "      <td>...</td>\n",
              "      <td>...</td>\n",
              "      <td>...</td>\n",
              "      <td>...</td>\n",
              "      <td>...</td>\n",
              "      <td>...</td>\n",
              "      <td>...</td>\n",
              "      <td>...</td>\n",
              "    </tr>\n",
              "    <tr>\n",
              "      <th>53023</th>\n",
              "      <td>242</td>\n",
              "      <td>0</td>\n",
              "      <td>N1</td>\n",
              "      <td>0</td>\n",
              "      <td>1.6.4.</td>\n",
              "      <td>1.0</td>\n",
              "      <td>1.6.</td>\n",
              "      <td>Econômico-Operacionais</td>\n",
              "      <td>2021</td>\n",
              "    </tr>\n",
              "    <tr>\n",
              "      <th>53024</th>\n",
              "      <td>242</td>\n",
              "      <td>0</td>\n",
              "      <td>N1</td>\n",
              "      <td>0</td>\n",
              "      <td>4.1.1.</td>\n",
              "      <td>4.0</td>\n",
              "      <td>4.1.</td>\n",
              "      <td>Biológico-Ecológicos</td>\n",
              "      <td>2021</td>\n",
              "    </tr>\n",
              "    <tr>\n",
              "      <th>53025</th>\n",
              "      <td>242</td>\n",
              "      <td>0</td>\n",
              "      <td>N1</td>\n",
              "      <td>0</td>\n",
              "      <td>4.1.2.</td>\n",
              "      <td>4.0</td>\n",
              "      <td>4.1.</td>\n",
              "      <td>Biológico-Ecológicos</td>\n",
              "      <td>2021</td>\n",
              "    </tr>\n",
              "    <tr>\n",
              "      <th>53026</th>\n",
              "      <td>242</td>\n",
              "      <td>0</td>\n",
              "      <td>N1</td>\n",
              "      <td>0</td>\n",
              "      <td>4.1.3.</td>\n",
              "      <td>4.0</td>\n",
              "      <td>4.1.</td>\n",
              "      <td>Biológico-Ecológicos</td>\n",
              "      <td>2021</td>\n",
              "    </tr>\n",
              "    <tr>\n",
              "      <th>53027</th>\n",
              "      <td>242</td>\n",
              "      <td>0</td>\n",
              "      <td>N2</td>\n",
              "      <td>0,232161534</td>\n",
              "      <td>3.1.3.</td>\n",
              "      <td>3.0</td>\n",
              "      <td>3.1.</td>\n",
              "      <td>Físico-Químicos</td>\n",
              "      <td>2021</td>\n",
              "    </tr>\n",
              "  </tbody>\n",
              "</table>\n",
              "<p>53028 rows × 9 columns</p>\n",
              "</div>\n",
              "      <button class=\"colab-df-convert\" onclick=\"convertToInteractive('df-46670dd6-ebaa-4cf0-8bad-a3f8677f026f')\"\n",
              "              title=\"Convert this dataframe to an interactive table.\"\n",
              "              style=\"display:none;\">\n",
              "        \n",
              "  <svg xmlns=\"http://www.w3.org/2000/svg\" height=\"24px\"viewBox=\"0 0 24 24\"\n",
              "       width=\"24px\">\n",
              "    <path d=\"M0 0h24v24H0V0z\" fill=\"none\"/>\n",
              "    <path d=\"M18.56 5.44l.94 2.06.94-2.06 2.06-.94-2.06-.94-.94-2.06-.94 2.06-2.06.94zm-11 1L8.5 8.5l.94-2.06 2.06-.94-2.06-.94L8.5 2.5l-.94 2.06-2.06.94zm10 10l.94 2.06.94-2.06 2.06-.94-2.06-.94-.94-2.06-.94 2.06-2.06.94z\"/><path d=\"M17.41 7.96l-1.37-1.37c-.4-.4-.92-.59-1.43-.59-.52 0-1.04.2-1.43.59L10.3 9.45l-7.72 7.72c-.78.78-.78 2.05 0 2.83L4 21.41c.39.39.9.59 1.41.59.51 0 1.02-.2 1.41-.59l7.78-7.78 2.81-2.81c.8-.78.8-2.07 0-2.86zM5.41 20L4 18.59l7.72-7.72 1.47 1.35L5.41 20z\"/>\n",
              "  </svg>\n",
              "      </button>\n",
              "      \n",
              "  <style>\n",
              "    .colab-df-container {\n",
              "      display:flex;\n",
              "      flex-wrap:wrap;\n",
              "      gap: 12px;\n",
              "    }\n",
              "\n",
              "    .colab-df-convert {\n",
              "      background-color: #E8F0FE;\n",
              "      border: none;\n",
              "      border-radius: 50%;\n",
              "      cursor: pointer;\n",
              "      display: none;\n",
              "      fill: #1967D2;\n",
              "      height: 32px;\n",
              "      padding: 0 0 0 0;\n",
              "      width: 32px;\n",
              "    }\n",
              "\n",
              "    .colab-df-convert:hover {\n",
              "      background-color: #E2EBFA;\n",
              "      box-shadow: 0px 1px 2px rgba(60, 64, 67, 0.3), 0px 1px 3px 1px rgba(60, 64, 67, 0.15);\n",
              "      fill: #174EA6;\n",
              "    }\n",
              "\n",
              "    [theme=dark] .colab-df-convert {\n",
              "      background-color: #3B4455;\n",
              "      fill: #D2E3FC;\n",
              "    }\n",
              "\n",
              "    [theme=dark] .colab-df-convert:hover {\n",
              "      background-color: #434B5C;\n",
              "      box-shadow: 0px 1px 3px 1px rgba(0, 0, 0, 0.15);\n",
              "      filter: drop-shadow(0px 1px 2px rgba(0, 0, 0, 0.3));\n",
              "      fill: #FFFFFF;\n",
              "    }\n",
              "  </style>\n",
              "\n",
              "      <script>\n",
              "        const buttonEl =\n",
              "          document.querySelector('#df-46670dd6-ebaa-4cf0-8bad-a3f8677f026f button.colab-df-convert');\n",
              "        buttonEl.style.display =\n",
              "          google.colab.kernel.accessAllowed ? 'block' : 'none';\n",
              "\n",
              "        async function convertToInteractive(key) {\n",
              "          const element = document.querySelector('#df-46670dd6-ebaa-4cf0-8bad-a3f8677f026f');\n",
              "          const dataTable =\n",
              "            await google.colab.kernel.invokeFunction('convertToInteractive',\n",
              "                                                     [key], {});\n",
              "          if (!dataTable) return;\n",
              "\n",
              "          const docLinkHtml = 'Like what you see? Visit the ' +\n",
              "            '<a target=\"_blank\" href=https://colab.research.google.com/notebooks/data_table.ipynb>data table notebook</a>'\n",
              "            + ' to learn more about interactive tables.';\n",
              "          element.innerHTML = '';\n",
              "          dataTable['output_type'] = 'display_data';\n",
              "          await google.colab.output.renderOutput(dataTable, element);\n",
              "          const docLink = document.createElement('div');\n",
              "          docLink.innerHTML = docLinkHtml;\n",
              "          element.appendChild(docLink);\n",
              "        }\n",
              "      </script>\n",
              "    </div>\n",
              "  </div>\n",
              "  "
            ],
            "text/plain": [
              "        CD  TipoAtributo  ...             NOCategoria     Ano\n",
              "0      249             0  ...  Econômico-Operacionais  2015.2\n",
              "1      249             3  ...  Econômico-Operacionais  2015.2\n",
              "2      249             2  ...  Econômico-Operacionais  2015.2\n",
              "3      249             2  ...  Econômico-Operacionais  2015.2\n",
              "4      249             0  ...  Econômico-Operacionais  2015.2\n",
              "...    ...           ...  ...                     ...     ...\n",
              "53023  242             0  ...  Econômico-Operacionais    2021\n",
              "53024  242             0  ...    Biológico-Ecológicos    2021\n",
              "53025  242             0  ...    Biológico-Ecológicos    2021\n",
              "53026  242             0  ...    Biológico-Ecológicos    2021\n",
              "53027  242             0  ...         Físico-Químicos    2021\n",
              "\n",
              "[53028 rows x 9 columns]"
            ]
          },
          "metadata": {},
          "execution_count": 25
        }
      ]
    },
    {
      "cell_type": "code",
      "source": [
        "# checking the years enrolled\n",
        "\n",
        "years = sorted(list(set(df.Ano)))\n",
        "\n",
        "years"
      ],
      "metadata": {
        "id": "q12nzI8JWqUm"
      },
      "execution_count": null,
      "outputs": []
    },
    {
      "cell_type": "code",
      "source": [
        "# dropping the special year for Cabedelo\n",
        "\n",
        "df = df[df.Ano != '2021 Cabedelo']"
      ],
      "metadata": {
        "id": "lFFxY8htWh11"
      },
      "execution_count": 28,
      "outputs": []
    },
    {
      "cell_type": "code",
      "source": [
        "# checking the years enrolled after dropping\n",
        "\n",
        "years = sorted(list(set(df.Ano)))\n",
        "\n",
        "years"
      ],
      "metadata": {
        "colab": {
          "base_uri": "https://localhost:8080/"
        },
        "id": "7vVOcAGOF9HL",
        "outputId": "6ef002f2-4854-4a5e-96d1-2f7ff4d1ec1c"
      },
      "execution_count": 29,
      "outputs": [
        {
          "output_type": "execute_result",
          "data": {
            "text/plain": [
              "['2015.2', '2016.1', '2017', '2018', '2019', '2020', '2021']"
            ]
          },
          "metadata": {},
          "execution_count": 29
        }
      ]
    },
    {
      "cell_type": "code",
      "source": [
        "# checking installations\n",
        "\n",
        "installations = sorted(list(set(df.nome)))\n",
        "\n",
        "installations"
      ],
      "metadata": {
        "colab": {
          "base_uri": "https://localhost:8080/"
        },
        "id": "sVUzrgvDHEBA",
        "outputId": "55f57860-cd27-42d4-a4aa-fb01521d5fdb"
      },
      "execution_count": null,
      "outputs": [
        {
          "output_type": "execute_result",
          "data": {
            "text/plain": [
              "['Aguiarnópolis',\n",
              " 'Alto Alegre do Pindaré',\n",
              " 'Amarante',\n",
              " 'Angra dos Reis \\xa0',\n",
              " 'Antonina',\n",
              " 'Araguacema',\n",
              " 'Araguaiana',\n",
              " 'Arari',\n",
              " 'Aratu \\xa0',\n",
              " 'Artemis',\n",
              " 'Belém \\xa0',\n",
              " 'Bequimão',\n",
              " 'Cabedelo \\xa0',\n",
              " 'Campinho',\n",
              " 'Cocalinho',\n",
              " 'Curralinho',\n",
              " 'Eclusa Tietê Jusante',\n",
              " 'Espadarte',\n",
              " 'Forno\\xa0',\n",
              " 'Fortaleza \\xa0',\n",
              " 'Ilhéus \\xa0',\n",
              " 'Imbituba \\xa0',\n",
              " 'Itaguaí (Sepetiba)\\xa0',\n",
              " 'Itajaí\\xa0',\n",
              " 'Itaqui',\n",
              " 'Longá',\n",
              " 'Macapá',\n",
              " 'Maceió',\n",
              " 'Mariante',\n",
              " 'Miguel Alves',\n",
              " 'Natal',\n",
              " 'Niterói \\xa0',\n",
              " 'Palmeirândia  (Coroatá)',\n",
              " 'Palmeirândia (São José dos Leite)',\n",
              " 'Paranaguá',\n",
              " 'Pelotas \\xa0',\n",
              " 'Penalva',\n",
              " 'Porto Alegre \\xa0',\n",
              " 'Porto Barragem de Jupiá',\n",
              " 'Porto Mendes',\n",
              " 'Porto Rico do Maranhão',\n",
              " 'Porto Velho \\xa0',\n",
              " 'Quatipuru - Sede',\n",
              " 'Recife \\xa0',\n",
              " 'Regência',\n",
              " 'Rio Grande \\xa0',\n",
              " 'Rio Pardo',\n",
              " 'Rio de Janeiro\\xa0',\n",
              " 'Rodrigues Alves',\n",
              " 'Rubinéia',\n",
              " 'Salinópolis',\n",
              " 'Salvador\\xa0',\n",
              " 'Santa Isabel do Rio Negro',\n",
              " 'Santa Rosa do Purus',\n",
              " 'Santana da Boa Vista',\n",
              " 'Santarém (novo)',\n",
              " 'Santarém \\x96 Terminal de Cargas',\n",
              " 'Santarém \\xa0',\n",
              " 'Santo Antônio das Lendas',\n",
              " 'Santo Antônio do Içá',\n",
              " 'Santo Antônio do Tauá',\n",
              " 'Santos \\xa0',\n",
              " 'Serra do Navio',\n",
              " 'Suape \\xa0',\n",
              " 'São Bento',\n",
              " 'São Francisco do Sul \\xa0',\n",
              " 'São José do Norte',\n",
              " 'São Miguel do Guamá',\n",
              " 'São Raimundo',\n",
              " 'São Sebastião da Boa Vista',\n",
              " 'São Sebastião do Uatumã',\n",
              " 'São Sebastião\\xa0',\n",
              " 'Tapauá',\n",
              " 'Tapuruquara',\n",
              " 'Tartarugalzinho',\n",
              " 'Tefé',\n",
              " 'Terminal Fazenda São Joaquim',\n",
              " 'Terminal Pesqueiro',\n",
              " 'Terminal da Condor',\n",
              " 'Tonantins',\n",
              " 'Turiaçu',\n",
              " 'Uarini',\n",
              " 'Urucurituba',\n",
              " 'Vila Bittencourt',\n",
              " 'Vila Ipiranga',\n",
              " 'Vila do Conde\\xa0',\n",
              " 'Viseu',\n",
              " 'Vitória \\xa0',\n",
              " 'Vítoria - Águas Profundas',\n",
              " 'Xapuri',\n",
              " 'Água Doce do Maranhão']"
            ]
          },
          "metadata": {},
          "execution_count": 8
        }
      ]
    }
  ]
}
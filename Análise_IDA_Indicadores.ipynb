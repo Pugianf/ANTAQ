{
  "nbformat": 4,
  "nbformat_minor": 0,
  "metadata": {
    "colab": {
      "name": "Análise_IDA_Indicadores.ipynb",
      "provenance": [],
      "mount_file_id": "1J4SVOx9MYrJauiMWPEUPT_yv76iTEIQs",
      "authorship_tag": "ABX9TyOWoMqSFUob9pWmbmaeODSE",
      "include_colab_link": true
    },
    "kernelspec": {
      "name": "python3",
      "display_name": "Python 3"
    },
    "language_info": {
      "name": "python"
    }
  },
  "cells": [
    {
      "cell_type": "markdown",
      "metadata": {
        "id": "view-in-github",
        "colab_type": "text"
      },
      "source": [
        "<a href=\"https://colab.research.google.com/github/Pugianf/ANTAQ/blob/main/An%C3%A1lise_IDA_Indicadores.ipynb\" target=\"_parent\"><img src=\"https://colab.research.google.com/assets/colab-badge.svg\" alt=\"Open In Colab\"/></a>"
      ]
    },
    {
      "cell_type": "markdown",
      "source": [
        "<h1>Data Analysis of IDA Indicators</h1>"
      ],
      "metadata": {
        "id": "wxyVpuWuCPUP"
      }
    },
    {
      "cell_type": "markdown",
      "source": [
        "### Settings\n"
      ],
      "metadata": {
        "id": "0zLLVDXGDVgc"
      }
    },
    {
      "cell_type": "code",
      "source": [
        "# importing libraries\n",
        "\n",
        "import pandas as pd\n",
        "import numpy as np"
      ],
      "metadata": {
        "id": "8vmrQAFlDcB5"
      },
      "execution_count": 1,
      "outputs": []
    },
    {
      "cell_type": "code",
      "source": [
        "# connecting google drive\n",
        "\n",
        "from google.colab import drive\n",
        "drive.mount('/content/drive')"
      ],
      "metadata": {
        "colab": {
          "base_uri": "https://localhost:8080/"
        },
        "id": "5Rc5vFmVDmqX",
        "outputId": "b879d8f2-d205-4a28-92ab-7496cadff9c4"
      },
      "execution_count": 2,
      "outputs": [
        {
          "output_type": "stream",
          "name": "stdout",
          "text": [
            "Drive already mounted at /content/drive; to attempt to forcibly remount, call drive.mount(\"/content/drive\", force_remount=True).\n"
          ]
        }
      ]
    },
    {
      "cell_type": "markdown",
      "source": [
        "### Importing CSV"
      ],
      "metadata": {
        "id": "8_difqnyDP07"
      }
    },
    {
      "cell_type": "code",
      "source": [
        "# getting data from IDA\n",
        "\n",
        "df_v1 = pd.read_csv('/content/drive/MyDrive/ANTAQ/Datasets/IDA/database_IDAv1.csv', encoding='latin1', sep=';')\n",
        "\n",
        "df_v2 = pd.read_csv('/content/drive/MyDrive/ANTAQ/Datasets/IDA/database_IDAv2.csv', encoding='latin1', sep=';')"
      ],
      "metadata": {
        "id": "AGCRZ5OJEw5g"
      },
      "execution_count": 15,
      "outputs": []
    },
    {
      "cell_type": "code",
      "source": [
        "# getting code of ports\n",
        "\n",
        "df_portos = pd.read_csv('/content/drive/MyDrive/ANTAQ/Datasets/IDA/Portos.csv', encoding='latin1', sep=';')\n",
        "\n",
        "df_tup = pd.read_csv('/content/drive/MyDrive/ANTAQ/Datasets/IDA/IDTerminal.csv', encoding='latin1', sep=';')"
      ],
      "metadata": {
        "id": "4e1BX2pvJmQY"
      },
      "execution_count": 16,
      "outputs": []
    },
    {
      "cell_type": "markdown",
      "source": [
        "### Wrangling Database"
      ],
      "metadata": {
        "id": "cBPCEjoAd8dF"
      }
    },
    {
      "cell_type": "code",
      "source": [
        "# setting the same column names in df_portos and df_tup to create a unique df_instalacoes\n",
        "\n",
        "df_portos = df_portos[['cdtrigrama', 'nome']].copy()\n",
        "df_portos.rename(columns={'cdtrigrama': 'Cod'}, inplace=True)\n",
        "df_tup.rename(columns={'IDTerminal': 'Cod', 'NOTerminal': 'nome'}, inplace=True)\n",
        "df_instalacoes = pd.concat([df_portos, df_tup])"
      ],
      "metadata": {
        "id": "_05j5R3Xtb3u"
      },
      "execution_count": 17,
      "outputs": []
    },
    {
      "cell_type": "code",
      "source": [
        "# checking NaN values and treating them\n",
        "\n",
        "print('Is there any NaN values in df_v1?', df_v1['DSAtributoQuestionario'].isnull().values.any())\n",
        "print('How many NaN values in df_v1?', df_v1['DSAtributoQuestionario'].isnull().sum())\n",
        "\n",
        "print('Is there any NaN values in df_v2?', df_v2.isnull().values.any())\n",
        "\n",
        "# Creating a column to explicit NaN values with 'Yes' or 'No'\n",
        "\n",
        "df_v1.loc[df_v1['DSAtributoQuestionario'].isnull(),'value_is_NaN'] = 'Yes'\n",
        "df_v1.loc[df_v1['DSAtributoQuestionario'].notnull(), 'value_is_NaN'] = 'No'\n",
        "\n",
        "# dropping NaN values\n",
        "\n",
        "df_v1.dropna(subset = ['DSAtributoQuestionario'], inplace=True)"
      ],
      "metadata": {
        "colab": {
          "base_uri": "https://localhost:8080/"
        },
        "id": "IBkI5kdrtycm",
        "outputId": "0498b64d-711d-4c77-c4b5-e0cc9319002d"
      },
      "execution_count": 18,
      "outputs": [
        {
          "output_type": "stream",
          "name": "stdout",
          "text": [
            "Is there any NaN values in df_v1? True\n",
            "How many NaN values in df_v1? 1609\n",
            "Is there any NaN values in df_v2? False\n"
          ]
        }
      ]
    },
    {
      "cell_type": "code",
      "source": [
        "# checking type of columns in df_v2\n",
        "\n",
        "print(df_v2.dtypes)\n",
        "\n",
        "# filtering df_v2 for 'IDTipoAtributo' == 0\n",
        "\n",
        "df_v2 = df_v2[df_v2.IDTipoAtributo == 0].copy()\n",
        "\n",
        "# dropping 'IDTipoAtributo' and 'NRPeso'\n",
        "\n",
        "df_v2.drop(columns=['IDTipoAtributo', 'NRPeso', 'NRCategoriaQuestionario', 'NRIndicadorGlobalQuestionario'], inplace=True)"
      ],
      "metadata": {
        "colab": {
          "base_uri": "https://localhost:8080/"
        },
        "id": "9wamkB1rdo4i",
        "outputId": "46d3b00c-fbbd-437c-b818-e94e5e4901d8"
      },
      "execution_count": 19,
      "outputs": [
        {
          "output_type": "stream",
          "name": "stdout",
          "text": [
            "CDInstalacaoPortuaria                       object\n",
            "IDTipoAtributo                               int64\n",
            "NOAtributoQuestionario                      object\n",
            "NRPeso                                      object\n",
            "NRIndicadorEspecificoQuestionario           object\n",
            "NOTituloIndicadorEspecificoQuestionario     object\n",
            "NRCategoriaQuestionario                    float64\n",
            "NRIndicadorGlobalQuestionario               object\n",
            "NOIndicadorGlobalQuestionario               object\n",
            "NOCategoriaQuestionario                     object\n",
            "NOAvaliacao                                 object\n",
            "dtype: object\n"
          ]
        }
      ]
    },
    {
      "cell_type": "code",
      "source": [
        "# creating a dictionary to map values in indicator column\n",
        "\n",
        "dict_indicador = {'1.1.1.1 Qual é a situação atual do Licenciamento Ambiental do porto? (C111)': 'Licenciamento Ambiental',\n",
        "                  '1.1.1.2 Quantos profissionais de interesse no Núcleo Ambiental? (C112)': 'Quantidade e Qualidade dos Técnicos',\n",
        "                  '1.1.1.3 Quantos treinamentos/capacitações ambientais os funcionários do Núcleo Ambiental recebem por ano? (C113)': 'Treinamento e Capacitação Ambiental',\n",
        "                  '1.1.1.4 Qual a situação atual da Auditoria Ambiental do porto? (C114)': 'Auditoria Ambiental',\n",
        "                  '1.1.2.1 O porto possui banco de dados oceanográficos/hidrológicos e meteorológicos/climatológicos próprio? (C121)': 'Base de Dados Oceano Meteorológicas',\n",
        "                  '1.1.2.2 Quantos planos foram elaborados e implementados no porto em relação à prevenção de riscos e atendimento a emergência? (C122)': 'Prevenção de Riscos',\n",
        "                  '1.1.2.3 Quantos acidentes ambientais ocorreram na Área do Porto Organizado (APO) e em seus arredores no último ano? (C123)': 'Ocorrência de Acidentes Ambientais',\n",
        "                  '1.1.3.1 Quais as ações de retirada dos resíduos de navios no porto? (C131)': 'Ações de Retirada de Resíduos do Navio',\n",
        "                  '1.1.3.2 Quais as ações relacionadas às operações de movimentação e armazenamento de contêineres com produtos perigosos? (C132)': 'Cargas Perigosas',\n",
        "                  '1.1.4.1 O porto busca reduzir o seu consumo de energia? (C141)': 'Consumo e Eficiência no Uso de Energia',\n",
        "                  '1.1.4.2 Há geração de energia limpa e renovável pelo porto para a sua utilização em atividades operacionais e/ou administrativas? (C142)': 'Tipos de Energia Utilizados',\n",
        "                  '1.1.4.3 O porto dispõe de sistema para fornecimento de energia (Onshore Power Supply - OPS) aos navios? (C143)': 'Fornecimento de Energia para Embarcações',\n",
        "                  '1.1.5.1 Como a internalização dos custos ambientais no orçamento é feita pelo porto? (C151)': 'Internalização dos Custos Ambientais',\n",
        "                  '1.1.6.1 Qual o nível de divulgação de informações ambientais do porto através do seu sítio eletrônico na Internet? (C161)': 'Comunicação das Ações Ambientais',\n",
        "                  '1.1.6.2 Em qual situação se encontra a Agenda Ambiental Local do porto? (C162)': 'Agenda Ambiental Local',\n",
        "                  '1.1.6.3 Qual a situação atual da Agenda Ambiental Institucional do porto? (C163)': 'Agenda Ambiental Institucional',\n",
        "                  '1.1.6.4 Quantas certificações voluntárias o porto possui? (C164)': 'Certificações Voluntárias',\n",
        "                  '1.1.7.1 A Autoridade Portuária acompanha e controla o desempenho ambiental dos terminais arrendados e/ou operadores avulsos? (C171)': 'Papel da Autoridade Portuária',\n",
        "                  '1.1.7.2 Qual a situação do licenciamento ambiental das empresas (terminais arrendados e/ou operadores avulsos)? (C172)': 'Licenciamento Ambiental das Empresas ',\n",
        "                  '1.1.7.3 Qual a situação do Plano de Emergência Individual - PEI dos terminais arrendados? (C173)': 'PEI dos Terminais',\n",
        "                  '1.1.7.4 Qual a situação das auditorias ambientais dos terminais arrendados? (C174)': 'Auditoria Ambiental dos Terminais',\n",
        "                  '1.1.7.5 Qual a situação dos Planos de Gerenciamento de Resíduos Sólidos - PGRS dos terminais arrendados? (C175)': 'PGRS dos Terminais',\n",
        "                  '1.1.7.6 Existem programas de educação ambiental promovidos pelos terminais arrendados? (C176)': 'Programa de EA nos Terminais',\n",
        "                  '1.1.7.7 Qual a situação das certificações voluntárias dos terminais arrendados? (C177)': 'Certificação das Empresas',\n",
        "                  '1.2.1.1 Há no porto a promoção de ações de educação ambiental? (C211)': 'Promoção de Ações de EA',\n",
        "                  '1.2.2.1 Quantas ações de promoção da saúde existem no porto? (C221)': 'Ações de Promoção da Saúde',\n",
        "                  '1.3.1.1 O porto realiza o monitoramento da qualidade da água do ambiente onde está inserido?  (C311)': 'Qualidade Ambiental do Corpo Hídrico',\n",
        "                  '1.3.1.2 Há drenagem pluvial no porto? (C312)': 'Drenagem Pluvial',\n",
        "                  '1.3.1.3 Qual a situação das ações de redução e reuso da água no porto? (C313)': 'Ações para Redução e Reúso da Água',\n",
        "                  '1.3.2.1 Qual a situação atual da área dragada e sua disposição no porto? (C321)': 'Área Dragada e de Disposição',\n",
        "                  '1.3.2.2 Há passivos ambientais relacionados no porto? (C322)': 'Passivos Ambientais',\n",
        "                  '1.3.3.1 Há monitoramento dos poluentes atmosféricos (gases e particulado) emitidos pelo porto? (C331)': 'Poluentes Atmosféricos',\n",
        "                  '1.3.3.2 Há monitoramento da poluição sonora emitida pelo porto? (C332)': 'Poluição Sonora',\n",
        "                  '1.3.4.1 Há gerenciamento de resíduos sólidos no porto? (C341)': 'PGRS',\n",
        "                  '1.4.1.1 Há monitoramento da fauna e flora no porto? (C411)': 'Monitoramento de Fauna e Flora',\n",
        "                  '1.4.1.2 Existe no porto um Programa Integrado de Controle e Monitoramento da Fauna Sinantrópica Nociva? (C412)': 'Animais Sinantrópicos',\n",
        "                  '1.4.1.3 Há algum levantamento ou monitoramento das espécies aquáticas exóticas/invasoras no porto? (C413)': 'Espécies Exóticas/Invasoras',\n",
        "                  '1.2.2.2 Há plano de contigência de saúde no porto? (C222)': 'Planos de Contingência de Saúde',\n",
        "                  '1.1.7.7 Existem programas de educação ambiental promovidos pelos terminais arrendados? (C177)': np.nan,\n",
        "                  '1.1.7.6 Qual a situação das certificações voluntárias dos terminais arrendados? (C176)': np.nan}"
      ],
      "metadata": {
        "id": "RDwfLqQD816S"
      },
      "execution_count": 20,
      "outputs": []
    },
    {
      "cell_type": "code",
      "source": [
        "df_v1.replace({'DSIndicadorEspecificoQuestionario': dict_indicador})"
      ],
      "metadata": {
        "colab": {
          "base_uri": "https://localhost:8080/",
          "height": 589
        },
        "id": "5ZCRMXrGIm8c",
        "outputId": "82239931-f865-4d11-89cb-8c02bcbbab5d"
      },
      "execution_count": 21,
      "outputs": [
        {
          "output_type": "execute_result",
          "data": {
            "text/html": [
              "\n",
              "  <div id=\"df-3d52b92a-a619-4e1e-9722-f149196adace\">\n",
              "    <div class=\"colab-df-container\">\n",
              "      <div>\n",
              "<style scoped>\n",
              "    .dataframe tbody tr th:only-of-type {\n",
              "        vertical-align: middle;\n",
              "    }\n",
              "\n",
              "    .dataframe tbody tr th {\n",
              "        vertical-align: top;\n",
              "    }\n",
              "\n",
              "    .dataframe thead th {\n",
              "        text-align: right;\n",
              "    }\n",
              "</style>\n",
              "<table border=\"1\" class=\"dataframe\">\n",
              "  <thead>\n",
              "    <tr style=\"text-align: right;\">\n",
              "      <th></th>\n",
              "      <th>CDTrigrama</th>\n",
              "      <th>DSAtributoQuestionario</th>\n",
              "      <th>NOAtributoQuestionario</th>\n",
              "      <th>DSIndicadorEspecificoQuestionario</th>\n",
              "      <th>DSIndicadorGeralQuestionario</th>\n",
              "      <th>DSCategoriaQuestionario</th>\n",
              "      <th>NOQUESTIONARIO</th>\n",
              "      <th>value_is_NaN</th>\n",
              "    </tr>\n",
              "  </thead>\n",
              "  <tbody>\n",
              "    <tr>\n",
              "      <th>0</th>\n",
              "      <td>MCP</td>\n",
              "      <td>O porto possui Licença de Operação Válida e vi...</td>\n",
              "      <td>N5</td>\n",
              "      <td>Licenciamento Ambiental</td>\n",
              "      <td>1.1.1 GOVERNANÇA AMBIENTAL (C11)</td>\n",
              "      <td>CATEGORIA ECONÔMICO-OPERACIONAIS (C1)</td>\n",
              "      <td>2012.2</td>\n",
              "      <td>No</td>\n",
              "    </tr>\n",
              "    <tr>\n",
              "      <th>1</th>\n",
              "      <td>MCP</td>\n",
              "      <td>Possui o número mínimo de profisionais no Núcl...</td>\n",
              "      <td>N2</td>\n",
              "      <td>Quantidade e Qualidade dos Técnicos</td>\n",
              "      <td>1.1.1 GOVERNANÇA AMBIENTAL (C11)</td>\n",
              "      <td>CATEGORIA ECONÔMICO-OPERACIONAIS (C1)</td>\n",
              "      <td>2012.2</td>\n",
              "      <td>No</td>\n",
              "    </tr>\n",
              "    <tr>\n",
              "      <th>2</th>\n",
              "      <td>MCP</td>\n",
              "      <td>Não participaram de treinamento/capacitação ou...</td>\n",
              "      <td>N1</td>\n",
              "      <td>Treinamento e Capacitação Ambiental</td>\n",
              "      <td>1.1.1 GOVERNANÇA AMBIENTAL (C11)</td>\n",
              "      <td>CATEGORIA ECONÔMICO-OPERACIONAIS (C1)</td>\n",
              "      <td>2012.2</td>\n",
              "      <td>No</td>\n",
              "    </tr>\n",
              "    <tr>\n",
              "      <th>3</th>\n",
              "      <td>MCP</td>\n",
              "      <td>Nunca foi realizada auditoria ambiental.</td>\n",
              "      <td>N1</td>\n",
              "      <td>Auditoria Ambiental</td>\n",
              "      <td>1.1.1 GOVERNANÇA AMBIENTAL (C11)</td>\n",
              "      <td>CATEGORIA ECONÔMICO-OPERACIONAIS (C1)</td>\n",
              "      <td>2012.2</td>\n",
              "      <td>No</td>\n",
              "    </tr>\n",
              "    <tr>\n",
              "      <th>4</th>\n",
              "      <td>MCP</td>\n",
              "      <td>Existe banco de dados com atualização mínima s...</td>\n",
              "      <td>N3</td>\n",
              "      <td>Base de Dados Oceano Meteorológicas</td>\n",
              "      <td>1.1.2 SEGURANÇA (C12)</td>\n",
              "      <td>CATEGORIA ECONÔMICO-OPERACIONAIS (C1)</td>\n",
              "      <td>2012.2</td>\n",
              "      <td>No</td>\n",
              "    </tr>\n",
              "    <tr>\n",
              "      <th>...</th>\n",
              "      <td>...</td>\n",
              "      <td>...</td>\n",
              "      <td>...</td>\n",
              "      <td>...</td>\n",
              "      <td>...</td>\n",
              "      <td>...</td>\n",
              "      <td>...</td>\n",
              "      <td>...</td>\n",
              "    </tr>\n",
              "    <tr>\n",
              "      <th>8878</th>\n",
              "      <td>VIX</td>\n",
              "      <td>Atende duas das opções do N5.</td>\n",
              "      <td>N3</td>\n",
              "      <td>PGRS</td>\n",
              "      <td>1.3.4 GERENCIAMENTO DE RESÍDUOS SÓLIDOS (C34)</td>\n",
              "      <td>CATEGORIA FÍSICO-QUÍMICOS (C3)</td>\n",
              "      <td>2015.1</td>\n",
              "      <td>No</td>\n",
              "    </tr>\n",
              "    <tr>\n",
              "      <th>8879</th>\n",
              "      <td>VIX</td>\n",
              "      <td>(   ) Foi realizada a caracterização da biota ...</td>\n",
              "      <td>N2</td>\n",
              "      <td>Monitoramento de Fauna e Flora</td>\n",
              "      <td>1.4.1 BIODIVERSIDADE (C41)</td>\n",
              "      <td>CATEGORIA BIOLÓGICO-ECOLÓGICOS (C4)</td>\n",
              "      <td>2015.1</td>\n",
              "      <td>No</td>\n",
              "    </tr>\n",
              "    <tr>\n",
              "      <th>8880</th>\n",
              "      <td>VIX</td>\n",
              "      <td>Atende três das opções do N5.</td>\n",
              "      <td>N4</td>\n",
              "      <td>Animais Sinantrópicos</td>\n",
              "      <td>1.4.1 BIODIVERSIDADE (C41)</td>\n",
              "      <td>CATEGORIA BIOLÓGICO-ECOLÓGICOS (C4)</td>\n",
              "      <td>2015.1</td>\n",
              "      <td>No</td>\n",
              "    </tr>\n",
              "    <tr>\n",
              "      <th>8881</th>\n",
              "      <td>VIX</td>\n",
              "      <td>Atende uma das opções do N3.</td>\n",
              "      <td>N1</td>\n",
              "      <td>Espécies Exóticas/Invasoras</td>\n",
              "      <td>1.4.1 BIODIVERSIDADE (C41)</td>\n",
              "      <td>CATEGORIA BIOLÓGICO-ECOLÓGICOS (C4)</td>\n",
              "      <td>2015.1</td>\n",
              "      <td>No</td>\n",
              "    </tr>\n",
              "    <tr>\n",
              "      <th>9039</th>\n",
              "      <td>TPC</td>\n",
              "      <td>Atende uma das opções do N5.</td>\n",
              "      <td>N2</td>\n",
              "      <td>Planos de Contingência de Saúde</td>\n",
              "      <td>1.2.2 SAÚDE PÚBLICA (C22)</td>\n",
              "      <td>CATEGORIA SOCIOLÓGICO-CULTURAIS (C2)</td>\n",
              "      <td>2015.1</td>\n",
              "      <td>No</td>\n",
              "    </tr>\n",
              "  </tbody>\n",
              "</table>\n",
              "<p>7520 rows × 8 columns</p>\n",
              "</div>\n",
              "      <button class=\"colab-df-convert\" onclick=\"convertToInteractive('df-3d52b92a-a619-4e1e-9722-f149196adace')\"\n",
              "              title=\"Convert this dataframe to an interactive table.\"\n",
              "              style=\"display:none;\">\n",
              "        \n",
              "  <svg xmlns=\"http://www.w3.org/2000/svg\" height=\"24px\"viewBox=\"0 0 24 24\"\n",
              "       width=\"24px\">\n",
              "    <path d=\"M0 0h24v24H0V0z\" fill=\"none\"/>\n",
              "    <path d=\"M18.56 5.44l.94 2.06.94-2.06 2.06-.94-2.06-.94-.94-2.06-.94 2.06-2.06.94zm-11 1L8.5 8.5l.94-2.06 2.06-.94-2.06-.94L8.5 2.5l-.94 2.06-2.06.94zm10 10l.94 2.06.94-2.06 2.06-.94-2.06-.94-.94-2.06-.94 2.06-2.06.94z\"/><path d=\"M17.41 7.96l-1.37-1.37c-.4-.4-.92-.59-1.43-.59-.52 0-1.04.2-1.43.59L10.3 9.45l-7.72 7.72c-.78.78-.78 2.05 0 2.83L4 21.41c.39.39.9.59 1.41.59.51 0 1.02-.2 1.41-.59l7.78-7.78 2.81-2.81c.8-.78.8-2.07 0-2.86zM5.41 20L4 18.59l7.72-7.72 1.47 1.35L5.41 20z\"/>\n",
              "  </svg>\n",
              "      </button>\n",
              "      \n",
              "  <style>\n",
              "    .colab-df-container {\n",
              "      display:flex;\n",
              "      flex-wrap:wrap;\n",
              "      gap: 12px;\n",
              "    }\n",
              "\n",
              "    .colab-df-convert {\n",
              "      background-color: #E8F0FE;\n",
              "      border: none;\n",
              "      border-radius: 50%;\n",
              "      cursor: pointer;\n",
              "      display: none;\n",
              "      fill: #1967D2;\n",
              "      height: 32px;\n",
              "      padding: 0 0 0 0;\n",
              "      width: 32px;\n",
              "    }\n",
              "\n",
              "    .colab-df-convert:hover {\n",
              "      background-color: #E2EBFA;\n",
              "      box-shadow: 0px 1px 2px rgba(60, 64, 67, 0.3), 0px 1px 3px 1px rgba(60, 64, 67, 0.15);\n",
              "      fill: #174EA6;\n",
              "    }\n",
              "\n",
              "    [theme=dark] .colab-df-convert {\n",
              "      background-color: #3B4455;\n",
              "      fill: #D2E3FC;\n",
              "    }\n",
              "\n",
              "    [theme=dark] .colab-df-convert:hover {\n",
              "      background-color: #434B5C;\n",
              "      box-shadow: 0px 1px 3px 1px rgba(0, 0, 0, 0.15);\n",
              "      filter: drop-shadow(0px 1px 2px rgba(0, 0, 0, 0.3));\n",
              "      fill: #FFFFFF;\n",
              "    }\n",
              "  </style>\n",
              "\n",
              "      <script>\n",
              "        const buttonEl =\n",
              "          document.querySelector('#df-3d52b92a-a619-4e1e-9722-f149196adace button.colab-df-convert');\n",
              "        buttonEl.style.display =\n",
              "          google.colab.kernel.accessAllowed ? 'block' : 'none';\n",
              "\n",
              "        async function convertToInteractive(key) {\n",
              "          const element = document.querySelector('#df-3d52b92a-a619-4e1e-9722-f149196adace');\n",
              "          const dataTable =\n",
              "            await google.colab.kernel.invokeFunction('convertToInteractive',\n",
              "                                                     [key], {});\n",
              "          if (!dataTable) return;\n",
              "\n",
              "          const docLinkHtml = 'Like what you see? Visit the ' +\n",
              "            '<a target=\"_blank\" href=https://colab.research.google.com/notebooks/data_table.ipynb>data table notebook</a>'\n",
              "            + ' to learn more about interactive tables.';\n",
              "          element.innerHTML = '';\n",
              "          dataTable['output_type'] = 'display_data';\n",
              "          await google.colab.output.renderOutput(dataTable, element);\n",
              "          const docLink = document.createElement('div');\n",
              "          docLink.innerHTML = docLinkHtml;\n",
              "          element.appendChild(docLink);\n",
              "        }\n",
              "      </script>\n",
              "    </div>\n",
              "  </div>\n",
              "  "
            ],
            "text/plain": [
              "     CDTrigrama                             DSAtributoQuestionario  \\\n",
              "0           MCP  O porto possui Licença de Operação Válida e vi...   \n",
              "1           MCP  Possui o número mínimo de profisionais no Núcl...   \n",
              "2           MCP  Não participaram de treinamento/capacitação ou...   \n",
              "3           MCP           Nunca foi realizada auditoria ambiental.   \n",
              "4           MCP  Existe banco de dados com atualização mínima s...   \n",
              "...         ...                                                ...   \n",
              "8878        VIX                      Atende duas das opções do N5.   \n",
              "8879        VIX  (   ) Foi realizada a caracterização da biota ...   \n",
              "8880        VIX                      Atende três das opções do N5.   \n",
              "8881        VIX                       Atende uma das opções do N3.   \n",
              "9039        TPC                       Atende uma das opções do N5.   \n",
              "\n",
              "     NOAtributoQuestionario    DSIndicadorEspecificoQuestionario  \\\n",
              "0                        N5              Licenciamento Ambiental   \n",
              "1                        N2  Quantidade e Qualidade dos Técnicos   \n",
              "2                        N1  Treinamento e Capacitação Ambiental   \n",
              "3                        N1                  Auditoria Ambiental   \n",
              "4                        N3  Base de Dados Oceano Meteorológicas   \n",
              "...                     ...                                  ...   \n",
              "8878                     N3                                 PGRS   \n",
              "8879                     N2       Monitoramento de Fauna e Flora   \n",
              "8880                     N4                Animais Sinantrópicos   \n",
              "8881                     N1          Espécies Exóticas/Invasoras   \n",
              "9039                     N2      Planos de Contingência de Saúde   \n",
              "\n",
              "                       DSIndicadorGeralQuestionario  \\\n",
              "0                  1.1.1 GOVERNANÇA AMBIENTAL (C11)   \n",
              "1                  1.1.1 GOVERNANÇA AMBIENTAL (C11)   \n",
              "2                  1.1.1 GOVERNANÇA AMBIENTAL (C11)   \n",
              "3                  1.1.1 GOVERNANÇA AMBIENTAL (C11)   \n",
              "4                             1.1.2 SEGURANÇA (C12)   \n",
              "...                                             ...   \n",
              "8878  1.3.4 GERENCIAMENTO DE RESÍDUOS SÓLIDOS (C34)   \n",
              "8879                     1.4.1 BIODIVERSIDADE (C41)   \n",
              "8880                     1.4.1 BIODIVERSIDADE (C41)   \n",
              "8881                     1.4.1 BIODIVERSIDADE (C41)   \n",
              "9039                      1.2.2 SAÚDE PÚBLICA (C22)   \n",
              "\n",
              "                    DSCategoriaQuestionario  NOQUESTIONARIO value_is_NaN  \n",
              "0     CATEGORIA ECONÔMICO-OPERACIONAIS (C1)          2012.2           No  \n",
              "1     CATEGORIA ECONÔMICO-OPERACIONAIS (C1)          2012.2           No  \n",
              "2     CATEGORIA ECONÔMICO-OPERACIONAIS (C1)          2012.2           No  \n",
              "3     CATEGORIA ECONÔMICO-OPERACIONAIS (C1)          2012.2           No  \n",
              "4     CATEGORIA ECONÔMICO-OPERACIONAIS (C1)          2012.2           No  \n",
              "...                                     ...             ...          ...  \n",
              "8878         CATEGORIA FÍSICO-QUÍMICOS (C3)          2015.1           No  \n",
              "8879    CATEGORIA BIOLÓGICO-ECOLÓGICOS (C4)          2015.1           No  \n",
              "8880    CATEGORIA BIOLÓGICO-ECOLÓGICOS (C4)          2015.1           No  \n",
              "8881    CATEGORIA BIOLÓGICO-ECOLÓGICOS (C4)          2015.1           No  \n",
              "9039   CATEGORIA SOCIOLÓGICO-CULTURAIS (C2)          2015.1           No  \n",
              "\n",
              "[7520 rows x 8 columns]"
            ]
          },
          "metadata": {},
          "execution_count": 21
        }
      ]
    },
    {
      "cell_type": "code",
      "source": [
        "# dropping the special year for Cabedelo\n",
        "\n",
        "df = df[df.Ano != '2021 Cabedelo']"
      ],
      "metadata": {
        "id": "lFFxY8htWh11"
      },
      "execution_count": null,
      "outputs": []
    },
    {
      "cell_type": "code",
      "source": [
        "# checking the years enrolled after dropping\n",
        "\n",
        "years = sorted(list(set(df.Ano)))\n",
        "\n",
        "years"
      ],
      "metadata": {
        "colab": {
          "base_uri": "https://localhost:8080/"
        },
        "id": "7vVOcAGOF9HL",
        "outputId": "6ef002f2-4854-4a5e-96d1-2f7ff4d1ec1c"
      },
      "execution_count": null,
      "outputs": [
        {
          "output_type": "execute_result",
          "data": {
            "text/plain": [
              "['2015.2', '2016.1', '2017', '2018', '2019', '2020', '2021']"
            ]
          },
          "metadata": {},
          "execution_count": 29
        }
      ]
    }
  ]
}
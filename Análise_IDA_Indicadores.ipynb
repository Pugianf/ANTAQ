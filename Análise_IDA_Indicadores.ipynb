{
  "nbformat": 4,
  "nbformat_minor": 0,
  "metadata": {
    "colab": {
      "name": "Análise_IDA_Indicadores.ipynb",
      "provenance": [],
      "mount_file_id": "1J4SVOx9MYrJauiMWPEUPT_yv76iTEIQs",
      "authorship_tag": "ABX9TyMejV85cFIyIoih1YK8t11f",
      "include_colab_link": true
    },
    "kernelspec": {
      "name": "python3",
      "display_name": "Python 3"
    },
    "language_info": {
      "name": "python"
    }
  },
  "cells": [
    {
      "cell_type": "markdown",
      "metadata": {
        "id": "view-in-github",
        "colab_type": "text"
      },
      "source": [
        "<a href=\"https://colab.research.google.com/github/Pugianf/ANTAQ/blob/main/An%C3%A1lise_IDA_Indicadores.ipynb\" target=\"_parent\"><img src=\"https://colab.research.google.com/assets/colab-badge.svg\" alt=\"Open In Colab\"/></a>"
      ]
    },
    {
      "cell_type": "markdown",
      "source": [
        "<h1>Data Analysis of IDA Indicators</h1>"
      ],
      "metadata": {
        "id": "wxyVpuWuCPUP"
      }
    },
    {
      "cell_type": "markdown",
      "source": [
        "### Settings\n"
      ],
      "metadata": {
        "id": "0zLLVDXGDVgc"
      }
    },
    {
      "cell_type": "code",
      "source": [
        "# importing libraries\n",
        "\n",
        "import pandas as pd\n",
        "import numpy as np\n",
        "\n",
        "#Installing FuzzyWuzzy\n",
        "\n",
        "!pip install fuzzywuzzy\n",
        "\n",
        "#Import\n",
        "import fuzzywuzzy\n",
        "from fuzzywuzzy import fuzz\n",
        "from fuzzywuzzy import process"
      ],
      "metadata": {
        "id": "8vmrQAFlDcB5",
        "colab": {
          "base_uri": "https://localhost:8080/"
        },
        "outputId": "6a63ed84-5b2a-4d75-8fad-a33aa2f200af"
      },
      "execution_count": 38,
      "outputs": [
        {
          "output_type": "stream",
          "name": "stdout",
          "text": [
            "Collecting fuzzywuzzy\n",
            "  Downloading fuzzywuzzy-0.18.0-py2.py3-none-any.whl (18 kB)\n",
            "Installing collected packages: fuzzywuzzy\n",
            "Successfully installed fuzzywuzzy-0.18.0\n"
          ]
        },
        {
          "output_type": "stream",
          "name": "stderr",
          "text": [
            "/usr/local/lib/python3.7/dist-packages/fuzzywuzzy/fuzz.py:11: UserWarning: Using slow pure-python SequenceMatcher. Install python-Levenshtein to remove this warning\n",
            "  warnings.warn('Using slow pure-python SequenceMatcher. Install python-Levenshtein to remove this warning')\n"
          ]
        }
      ]
    },
    {
      "cell_type": "code",
      "source": [
        "# connecting google drive\n",
        "\n",
        "from google.colab import drive\n",
        "drive.mount('/content/drive')"
      ],
      "metadata": {
        "colab": {
          "base_uri": "https://localhost:8080/"
        },
        "id": "5Rc5vFmVDmqX",
        "outputId": "b879d8f2-d205-4a28-92ab-7496cadff9c4"
      },
      "execution_count": 2,
      "outputs": [
        {
          "output_type": "stream",
          "name": "stdout",
          "text": [
            "Drive already mounted at /content/drive; to attempt to forcibly remount, call drive.mount(\"/content/drive\", force_remount=True).\n"
          ]
        }
      ]
    },
    {
      "cell_type": "markdown",
      "source": [
        "### Importing CSV"
      ],
      "metadata": {
        "id": "8_difqnyDP07"
      }
    },
    {
      "cell_type": "code",
      "source": [
        "# getting data from IDA\n",
        "\n",
        "df_v1 = pd.read_csv('/content/drive/MyDrive/ANTAQ/Datasets/IDA/database_IDAv1.csv', encoding='latin1', sep=';')\n",
        "\n",
        "df_v2 = pd.read_csv('/content/drive/MyDrive/ANTAQ/Datasets/IDA/database_IDAv2.csv', encoding='latin1', sep=';')"
      ],
      "metadata": {
        "id": "AGCRZ5OJEw5g"
      },
      "execution_count": 208,
      "outputs": []
    },
    {
      "cell_type": "code",
      "source": [
        "# getting code of ports\n",
        "\n",
        "df_portos = pd.read_csv('/content/drive/MyDrive/ANTAQ/Datasets/IDA/Portos.csv', encoding='latin1', sep=';')\n",
        "\n",
        "df_tup = pd.read_csv('/content/drive/MyDrive/ANTAQ/Datasets/IDA/IDTerminal.csv', encoding='latin1', sep=';')"
      ],
      "metadata": {
        "id": "4e1BX2pvJmQY"
      },
      "execution_count": 209,
      "outputs": []
    },
    {
      "cell_type": "markdown",
      "source": [
        "### Wrangling Database"
      ],
      "metadata": {
        "id": "cBPCEjoAd8dF"
      }
    },
    {
      "cell_type": "code",
      "source": [
        "# setting the same column names in df_portos and df_tup to create a unique df_instalacoes\n",
        "\n",
        "df_portos = df_portos[['cdtrigrama', 'nome']].copy()\n",
        "df_portos.rename(columns={'cdtrigrama': 'Cod', 'nome': 'Instalação'}, inplace=True)\n",
        "df_tup.rename(columns={'IDTerminal': 'Cod', 'NOTerminal': 'Instalação'}, inplace=True)\n",
        "df_instalacoes = pd.concat([df_portos, df_tup])"
      ],
      "metadata": {
        "id": "_05j5R3Xtb3u"
      },
      "execution_count": 210,
      "outputs": []
    },
    {
      "cell_type": "code",
      "source": [
        "# checking NaN values and treating them\n",
        "\n",
        "print('Is there any NaN values in df_v1?', df_v1['DSAtributoQuestionario'].isnull().values.any())\n",
        "print('How many NaN values in df_v1?', df_v1['DSAtributoQuestionario'].isnull().sum())\n",
        "\n",
        "print('Is there any NaN values in df_v2?', df_v2.isnull().values.any())\n",
        "\n",
        "# Creating a column to explicit NaN values with 'Yes' or 'No'\n",
        "\n",
        "df_v1.loc[df_v1['DSAtributoQuestionario'].isnull(),'value_is_NaN'] = 'Yes'\n",
        "df_v1.loc[df_v1['DSAtributoQuestionario'].notnull(), 'value_is_NaN'] = 'No'\n",
        "\n",
        "# dropping NaN values\n",
        "\n",
        "df_v1.dropna(subset = ['DSAtributoQuestionario'], inplace=True)"
      ],
      "metadata": {
        "colab": {
          "base_uri": "https://localhost:8080/"
        },
        "id": "IBkI5kdrtycm",
        "outputId": "b722a083-cacf-4de2-e427-abffd3fe7f54"
      },
      "execution_count": 211,
      "outputs": [
        {
          "output_type": "stream",
          "name": "stdout",
          "text": [
            "Is there any NaN values in df_v1? True\n",
            "How many NaN values in df_v1? 1609\n",
            "Is there any NaN values in df_v2? False\n"
          ]
        }
      ]
    },
    {
      "cell_type": "code",
      "source": [
        "# checking type of columns in df_v2\n",
        "\n",
        "print(df_v2.dtypes)\n",
        "\n",
        "# filtering df_v2 for 'IDTipoAtributo' == 0\n",
        "\n",
        "df_v2 = df_v2[df_v2.IDTipoAtributo == 0].copy()\n",
        "\n",
        "# dropping 'IDTipoAtributo' and 'NRPeso'\n",
        "\n",
        "df_v2.drop(columns=['IDTipoAtributo', 'NRPeso', 'NRCategoriaQuestionario', 'NRIndicadorGlobalQuestionario'], inplace=True)"
      ],
      "metadata": {
        "colab": {
          "base_uri": "https://localhost:8080/"
        },
        "id": "9wamkB1rdo4i",
        "outputId": "e99480ed-3444-4c9c-e5ae-66d93c3124d9"
      },
      "execution_count": 212,
      "outputs": [
        {
          "output_type": "stream",
          "name": "stdout",
          "text": [
            "CDInstalacaoPortuaria                       object\n",
            "IDTipoAtributo                               int64\n",
            "NOAtributoQuestionario                      object\n",
            "NRPeso                                      object\n",
            "NRIndicadorEspecificoQuestionario           object\n",
            "NOTituloIndicadorEspecificoQuestionario     object\n",
            "NRCategoriaQuestionario                    float64\n",
            "NRIndicadorGlobalQuestionario               object\n",
            "NOIndicadorGlobalQuestionario               object\n",
            "NOCategoriaQuestionario                     object\n",
            "NOAvaliacao                                 object\n",
            "dtype: object\n"
          ]
        }
      ]
    },
    {
      "cell_type": "code",
      "source": [
        "# creating a dictionary to map values in indicator column\n",
        "\n",
        "dict_indicador = {'1.1.1.1 Qual é a situação atual do Licenciamento Ambiental do porto? (C111)': 'Licenciamento Ambiental',\n",
        "                  '1.1.1.2 Quantos profissionais de interesse no Núcleo Ambiental? (C112)': 'Quantidade e Qualidade dos Técnicos',\n",
        "                  '1.1.1.3 Quantos treinamentos/capacitações ambientais os funcionários do Núcleo Ambiental recebem por ano? (C113)': 'Treinamento e Capacitação Ambiental',\n",
        "                  '1.1.1.4 Qual a situação atual da Auditoria Ambiental do porto? (C114)': 'Auditoria Ambiental',\n",
        "                  '1.1.2.1 O porto possui banco de dados oceanográficos/hidrológicos e meteorológicos/climatológicos próprio? (C121)': 'Base de Dados Oceano Meteorológicas',\n",
        "                  '1.1.2.2 Quantos planos foram elaborados e implementados no porto em relação à prevenção de riscos e atendimento a emergência? (C122)': 'Prevenção de Riscos',\n",
        "                  '1.1.2.3 Quantos acidentes ambientais ocorreram na Área do Porto Organizado (APO) e em seus arredores no último ano? (C123)': 'Ocorrência de Acidentes Ambientais',\n",
        "                  '1.1.3.1 Quais as ações de retirada dos resíduos de navios no porto? (C131)': 'Ações de Retirada de Resíduos do Navio',\n",
        "                  '1.1.3.2 Quais as ações relacionadas às operações de movimentação e armazenamento de contêineres com produtos perigosos? (C132)': 'Cargas Perigosas',\n",
        "                  '1.1.4.1 O porto busca reduzir o seu consumo de energia? (C141)': 'Consumo e Eficiência no Uso de Energia',\n",
        "                  '1.1.4.2 Há geração de energia limpa e renovável pelo porto para a sua utilização em atividades operacionais e/ou administrativas? (C142)': 'Tipos de Energia Utilizados',\n",
        "                  '1.1.4.3 O porto dispõe de sistema para fornecimento de energia (Onshore Power Supply - OPS) aos navios? (C143)': 'Fornecimento de Energia para Embarcações',\n",
        "                  '1.1.5.1 Como a internalização dos custos ambientais no orçamento é feita pelo porto? (C151)': 'Internalização dos Custos Ambientais',\n",
        "                  '1.1.6.1 Qual o nível de divulgação de informações ambientais do porto através do seu sítio eletrônico na Internet? (C161)': 'Comunicação das Ações Ambientais',\n",
        "                  '1.1.6.2 Em qual situação se encontra a Agenda Ambiental Local do porto? (C162)': 'Agenda Ambiental Local',\n",
        "                  '1.1.6.3 Qual a situação atual da Agenda Ambiental Institucional do porto? (C163)': 'Agenda Ambiental Institucional',\n",
        "                  '1.1.6.4 Quantas certificações voluntárias o porto possui? (C164)': 'Certificações Voluntárias',\n",
        "                  '1.1.7.1 A Autoridade Portuária acompanha e controla o desempenho ambiental dos terminais arrendados e/ou operadores avulsos? (C171)': 'Papel da Autoridade Portuária',\n",
        "                  '1.1.7.2 Qual a situação do licenciamento ambiental das empresas (terminais arrendados e/ou operadores avulsos)? (C172)': 'Licenciamento Ambiental das Empresas ',\n",
        "                  '1.1.7.3 Qual a situação do Plano de Emergência Individual - PEI dos terminais arrendados? (C173)': 'PEI dos Terminais',\n",
        "                  '1.1.7.4 Qual a situação das auditorias ambientais dos terminais arrendados? (C174)': 'Auditoria Ambiental dos Terminais',\n",
        "                  '1.1.7.5 Qual a situação dos Planos de Gerenciamento de Resíduos Sólidos - PGRS dos terminais arrendados? (C175)': 'PGRS dos Terminais',\n",
        "                  '1.1.7.6 Existem programas de educação ambiental promovidos pelos terminais arrendados? (C176)': 'Programa de EA nos Terminais',\n",
        "                  '1.1.7.7 Qual a situação das certificações voluntárias dos terminais arrendados? (C177)': 'Certificação das Empresas',\n",
        "                  '1.2.1.1 Há no porto a promoção de ações de educação ambiental? (C211)': 'Promoção de Ações de EA',\n",
        "                  '1.2.2.1 Quantas ações de promoção da saúde existem no porto? (C221)': 'Ações de Promoção da Saúde',\n",
        "                  '1.3.1.1 O porto realiza o monitoramento da qualidade da água do ambiente onde está inserido?  (C311)': 'Qualidade Ambiental do Corpo Hídrico',\n",
        "                  '1.3.1.2 Há drenagem pluvial no porto? (C312)': 'Drenagem Pluvial',\n",
        "                  '1.3.1.3 Qual a situação das ações de redução e reuso da água no porto? (C313)': 'Ações para Redução e Reúso da Água',\n",
        "                  '1.3.2.1 Qual a situação atual da área dragada e sua disposição no porto? (C321)': 'Área Dragada e de Disposição',\n",
        "                  '1.3.2.2 Há passivos ambientais relacionados no porto? (C322)': 'Passivos Ambientais',\n",
        "                  '1.3.3.1 Há monitoramento dos poluentes atmosféricos (gases e particulado) emitidos pelo porto? (C331)': 'Poluentes Atmosféricos',\n",
        "                  '1.3.3.2 Há monitoramento da poluição sonora emitida pelo porto? (C332)': 'Poluição Sonora',\n",
        "                  '1.3.4.1 Há gerenciamento de resíduos sólidos no porto? (C341)': 'PGRS',\n",
        "                  '1.4.1.1 Há monitoramento da fauna e flora no porto? (C411)': 'Monitoramento de Fauna e Flora',\n",
        "                  '1.4.1.2 Existe no porto um Programa Integrado de Controle e Monitoramento da Fauna Sinantrópica Nociva? (C412)': 'Animais Sinantrópicos',\n",
        "                  '1.4.1.3 Há algum levantamento ou monitoramento das espécies aquáticas exóticas/invasoras no porto? (C413)': 'Espécies Exóticas/Invasoras',\n",
        "                  '1.2.2.2 Há plano de contigência de saúde no porto? (C222)': 'Planos de Contingência de Saúde',\n",
        "                  '1.1.7.7 Existem programas de educação ambiental promovidos pelos terminais arrendados? (C177)': np.nan,\n",
        "                  '1.1.7.6 Qual a situação das certificações voluntárias dos terminais arrendados? (C176)': np.nan}"
      ],
      "metadata": {
        "id": "RDwfLqQD816S"
      },
      "execution_count": 213,
      "outputs": []
    },
    {
      "cell_type": "code",
      "source": [
        "# applying dictionary to 'DSIndicadorEspecificoQuestionario' df_v1 and dropping NaN values\n",
        "\n",
        "df_v1.replace({'DSIndicadorEspecificoQuestionario': dict_indicador}, inplace=True)\n",
        "\n",
        "# dropping NaN values\n",
        "\n",
        "df_v1.dropna(subset = ['DSAtributoQuestionario'], inplace=True)\n",
        "\n",
        "# checking for still NaN values\n",
        "\n",
        "print('Is there any NaN values in df_v1?', df_v1['DSAtributoQuestionario'].isnull().values.any())\n",
        "print('How many NaN values in df_v1?', df_v1['DSAtributoQuestionario'].isnull().sum())"
      ],
      "metadata": {
        "colab": {
          "base_uri": "https://localhost:8080/"
        },
        "id": "5ZCRMXrGIm8c",
        "outputId": "2d484dfb-0aa5-4cbf-ffe6-24bf084dfdd2"
      },
      "execution_count": 214,
      "outputs": [
        {
          "output_type": "stream",
          "name": "stdout",
          "text": [
            "Is there any NaN values in df_v1? False\n",
            "How many NaN values in df_v1? 0\n"
          ]
        }
      ]
    },
    {
      "cell_type": "code",
      "source": [
        "# creating a close dict from fuzzywuzzy\n",
        "\n",
        "df1_global = list(df_v1.DSIndicadorGeralQuestionario.unique())\n",
        "df2_global = list(df_v2.NOIndicadorGlobalQuestionario.unique())\n",
        "\n",
        "def match_global(indicator, list_indicator, min_score=0):\n",
        "    max_score = -1\n",
        "    max_indicator = ''\n",
        "    for x in list_indicator:\n",
        "        score = fuzz.ratio(indicator, x)\n",
        "        if (score > min_score) & (score > max_score):\n",
        "            max_indicator = x\n",
        "            max_score = score\n",
        "    return (max_indicator, max_score)\n",
        "\n",
        "indicators = []\n",
        "for x in df1_global:\n",
        "    match = match_global(x, df2_global)\n",
        "    indicator = ('(' + str(x), str(match[0]) + ')')\n",
        "    indicators.append(indicator)\n",
        "indicator_dict = dict(indicators)\n",
        "indicator_dict"
      ],
      "metadata": {
        "colab": {
          "base_uri": "https://localhost:8080/"
        },
        "id": "4W-a2hOKizw8",
        "outputId": "37509895-3997-44f5-fc76-96856d0c5d08"
      },
      "execution_count": 215,
      "outputs": [
        {
          "output_type": "execute_result",
          "data": {
            "text/plain": [
              "{'(1.1.1 GOVERNANÇA AMBIENTAL (C11)': 'Monitoramento do Ar e do Ruído)',\n",
              " '(1.1.2 SEGURANÇA (C12)': 'Agenda Ambiental)',\n",
              " '(1.1.3 GESTÃO DAS OPERAÇÕES PORTUÁRIAS (C13)': 'Gestão das Operações Portuárias)',\n",
              " '(1.1.4 GERENCIAMENTO DE ENERGIA (C14)': 'Custos e Benefícios das Ações Ambientais)',\n",
              " '(1.1.5 CUSTOS E BENEFÍCIOS DAS AÇÕES AMBIENTAIS (C15)': 'Custos e Benefícios das Ações Ambientais)',\n",
              " '(1.1.6 AGENDA AMBIENTAL (C16)': 'Monitoramento do Ar e do Ruído)',\n",
              " '(1.1.7 GESTÃO CONDOMINIAL DO PORTO ORGANIZADO (C17)': 'Gestão Condominial do Porto Organizado)',\n",
              " '(1.2.1 EDUCAÇÃO AMBIENTAL (C21)': 'Agenda Ambiental)',\n",
              " '(1.2.2 SAÚDE PÚBLICA (C22)': 'Saúde Pública)',\n",
              " '(1.3.1 MONITORAMENTO DA ÁGUA (C31)': 'Custos e Benefícios das Ações Ambientais)',\n",
              " '(1.3.2 MONITORAMENTO DO SOLO E MATERIAL DRAGADO (C32)': 'Custos e Benefícios das Ações Ambientais)',\n",
              " '(1.3.3 MONITORAMENTO DO AR E RUÍDO (C33)': 'Monitoramento do Ar e do Ruído)',\n",
              " '(1.3.4 GERENCIAMENTO DE RESÍDUOS SÓLIDOS (C34)': 'Monitoramento do Ar e do Ruído)',\n",
              " '(1.4.1 BIODIVERSIDADE (C41)': 'Custos e Benefícios das Ações Ambientais)'}"
            ]
          },
          "metadata": {},
          "execution_count": 215
        }
      ]
    },
    {
      "cell_type": "code",
      "source": [
        "# creating final dict for Indicador Global\n",
        "\n",
        "dict_global_indicator = {'1.1.1 GOVERNANÇA AMBIENTAL (C11)': 'Governança Ambiental',\n",
        "                         '1.1.2 SEGURANÇA (C12)': 'Segurança',\n",
        "                         '1.1.3 GESTÃO DAS OPERAÇÕES PORTUÁRIAS (C13)': 'Gestão das Operações Portuárias',\n",
        "                         '1.1.4 GERENCIAMENTO DE ENERGIA (C14)': 'Gerenciamento de Energia',\n",
        "                         '1.1.5 CUSTOS E BENEFÍCIOS DAS AÇÕES AMBIENTAIS (C15)': 'Custos e Benefícios das Ações Ambientais',\n",
        "                         '1.1.6 AGENDA AMBIENTAL (C16)': 'Agenda Ambiental',\n",
        "                         '1.1.7 GESTÃO CONDOMINIAL DO PORTO ORGANIZADO (C17)': 'Gestão Condominial do Porto Organizado',\n",
        "                         '1.2.1 EDUCAÇÃO AMBIENTAL (C21)': 'Educação Ambiental',\n",
        "                         '1.2.2 SAÚDE PÚBLICA (C22)': 'Saúde Pública',\n",
        "                         '1.3.1 MONITORAMENTO DA ÁGUA (C31)': 'Monitoramento da Água',\n",
        "                         '1.3.2 MONITORAMENTO DO SOLO E MATERIAL DRAGADO (C32)': 'Monitoramento do Solo e do Material Dragado',\n",
        "                         '1.3.3 MONITORAMENTO DO AR E RUÍDO (C33)': 'Monitoramento do Ar e do Ruído',\n",
        "                         '1.3.4 GERENCIAMENTO DE RESÍDUOS SÓLIDOS (C34)': 'Monitoramento de Resíduos Sólidos',\n",
        "                         '1.4.1 BIODIVERSIDADE (C41)': 'Biodiversidade'}"
      ],
      "metadata": {
        "id": "COcXdYvcf-bB"
      },
      "execution_count": 216,
      "outputs": []
    },
    {
      "cell_type": "code",
      "source": [
        "# applying dictionary to 'DSIndicadorGeralQuestionario' df_v1 and dropping NaN values\n",
        "\n",
        "df_v1.replace({'DSIndicadorGeralQuestionario': dict_global_indicator}, inplace=True)"
      ],
      "metadata": {
        "id": "c5r-94xffko0"
      },
      "execution_count": 217,
      "outputs": []
    },
    {
      "cell_type": "code",
      "source": [
        "# dropping DSIndicadorEspecificoQuestionario and value_is_NaN columns\n",
        "\n",
        "df_v1.drop(columns=['DSAtributoQuestionario', 'value_is_NaN'], inplace=True)"
      ],
      "metadata": {
        "id": "Pi8-CsLNeqkP"
      },
      "execution_count": 218,
      "outputs": []
    },
    {
      "cell_type": "code",
      "source": [
        "# dropping NRIndicadorEspecificoQuestionario column\n",
        "\n",
        "df_v2.drop(columns=['NRIndicadorEspecificoQuestionario'], inplace=True)"
      ],
      "metadata": {
        "id": "j3_qVDzmpddl"
      },
      "execution_count": 219,
      "outputs": []
    },
    {
      "cell_type": "code",
      "source": [
        "# creating category dictionary with fuzz\n",
        "\n",
        "df1_category = list(df_v1.DSCategoriaQuestionario.unique())\n",
        "df2_category = list(df_v2.NOCategoriaQuestionario.unique())\n",
        "\n",
        "def match_category(category, list_category, min_score=0):\n",
        "    max_score = -1\n",
        "    max_category = ''\n",
        "    for x in list_category:\n",
        "        score = fuzz.ratio(category, x)\n",
        "        if (score > min_score) & (score > max_score):\n",
        "            max_category = x\n",
        "            max_score = score\n",
        "    return (max_category, max_score)\n",
        "\n",
        "categories = []\n",
        "for x in df1_category:\n",
        "    match = match_category(x, df2_category)\n",
        "    category = (str(x), str(match[0]))\n",
        "    categories.append(category)\n",
        "category_dict = dict(categories)\n",
        "category_dict"
      ],
      "metadata": {
        "colab": {
          "base_uri": "https://localhost:8080/"
        },
        "id": "RXPmZKjdqeo5",
        "outputId": "6b47b859-3fb9-439b-cae5-43e6e5fb8d7e"
      },
      "execution_count": 220,
      "outputs": [
        {
          "output_type": "execute_result",
          "data": {
            "text/plain": [
              "{'CATEGORIA BIOLÓGICO-ECOLÓGICOS (C4)': 'Biológico-Ecológicos',\n",
              " 'CATEGORIA ECONÔMICO-OPERACIONAIS (C1)': 'Econômico-Operacionais',\n",
              " 'CATEGORIA FÍSICO-QUÍMICOS (C3)': 'Físico-Químicos',\n",
              " 'CATEGORIA SOCIOLÓGICO-CULTURAIS (C2)': 'Sociológico-Culturais'}"
            ]
          },
          "metadata": {},
          "execution_count": 220
        }
      ]
    },
    {
      "cell_type": "code",
      "source": [
        "# applying dict to df_v1\n",
        "\n",
        "df_v1.replace({'DSCategoriaQuestionario': category_dict}, inplace=True)"
      ],
      "metadata": {
        "id": "3WwyOh0QrdJw"
      },
      "execution_count": 221,
      "outputs": []
    },
    {
      "cell_type": "code",
      "source": [
        "# renaming columns in df_v1 and df_v2\n",
        "\n",
        "df_v2.rename(columns={'CDInstalacaoPortuaria': 'Cod', 'NOAtributoQuestionario': 'Valor', 'NOTituloIndicadorEspecificoQuestionario': 'Indicador Específico',\n",
        "                      'NOIndicadorGlobalQuestionario': 'Indicador Global', 'NOCategoriaQuestionario': 'Categoria', 'NOAvaliacao': 'Ano'}, inplace=True)\n",
        "\n",
        "df_v1.rename(columns={'CDTrigrama': 'Cod', 'NOAtributoQuestionario': 'Valor', 'DSIndicadorEspecificoQuestionario': 'Indicador Específico',\n",
        "                      'DSIndicadorGeralQuestionario': 'Indicador Global', 'DSCategoriaQuestionario': 'Categoria', 'NOQUESTIONARIO': 'Ano'}, inplace=True)"
      ],
      "metadata": {
        "id": "SNqZaq8hqVBt"
      },
      "execution_count": 222,
      "outputs": []
    },
    {
      "cell_type": "code",
      "source": [
        "# dropping the special year for Cabedelo\n",
        "\n",
        "df_v2 = df_v2[df_v2.Ano != '2021 Cabedelo'].copy()"
      ],
      "metadata": {
        "id": "RLFpUr71vUir"
      },
      "execution_count": 223,
      "outputs": []
    },
    {
      "cell_type": "code",
      "source": [
        "# concat df_portos and df_tup for df_instalacao\n",
        "\n",
        "df_portos['Cod'] = df_portos['Cod'].astype(str)\n",
        "df_portos['Instalação'] = df_portos['Instalação'].astype(str)\n",
        "\n",
        "df_tup['Cod'] = df_tup['Cod'].astype(str)\n",
        "df_tup['Instalação'] = df_tup['Instalação'].astype(str)\n",
        "\n",
        "df_instalacao = pd.concat([df_tup, df_portos])"
      ],
      "metadata": {
        "id": "PRP0sKs4wagI"
      },
      "execution_count": 224,
      "outputs": []
    },
    {
      "cell_type": "code",
      "source": [
        "# concat df_v1 and df_v2 for df\n",
        "\n",
        "df = pd.concat([df_v1, df_v2])"
      ],
      "metadata": {
        "id": "L49NemWHzDIR"
      },
      "execution_count": 225,
      "outputs": []
    },
    {
      "cell_type": "code",
      "source": [
        "# stripping whitespace in Cod for df and df_instalacao, preparing to merge\n",
        "\n",
        "df['Cod'] = df['Cod'].str.strip()\n",
        "df_instalacao['Cod'] = df_instalacao['Cod'].str.strip()"
      ],
      "metadata": {
        "id": "CcAYVt5U54sL"
      },
      "execution_count": 226,
      "outputs": []
    },
    {
      "cell_type": "code",
      "source": [
        "# creating final DataFrame\n",
        "\n",
        "df = df.merge(df_instalacao, on='Cod', how='left')"
      ],
      "metadata": {
        "id": "exWriqMw2r7L"
      },
      "execution_count": 227,
      "outputs": []
    },
    {
      "cell_type": "code",
      "source": [
        "df['Instalação'].isnull().values.any()"
      ],
      "metadata": {
        "colab": {
          "base_uri": "https://localhost:8080/"
        },
        "id": "bAwsWWeP2z53",
        "outputId": "4f214469-8c80-4be5-be25-ff0a48141f47"
      },
      "execution_count": 228,
      "outputs": [
        {
          "output_type": "execute_result",
          "data": {
            "text/plain": [
              "True"
            ]
          },
          "metadata": {},
          "execution_count": 228
        }
      ]
    },
    {
      "cell_type": "code",
      "source": [
        "df['Instalação'].isnull().sum()"
      ],
      "metadata": {
        "colab": {
          "base_uri": "https://localhost:8080/"
        },
        "id": "VLO_AcoZ6Z9v",
        "outputId": "45547502-f0f4-49c3-eaa0-9f26fc08d6dc"
      },
      "execution_count": 232,
      "outputs": [
        {
          "output_type": "execute_result",
          "data": {
            "text/plain": [
              "390"
            ]
          },
          "metadata": {},
          "execution_count": 232
        }
      ]
    },
    {
      "cell_type": "code",
      "source": [
        "df[df['Instalação'].isnull() == True].Cod.unique()"
      ],
      "metadata": {
        "colab": {
          "base_uri": "https://localhost:8080/"
        },
        "id": "L5oEPzAS4Xp7",
        "outputId": "0fe4d3da-9dce-45db-f0a6-322fbe71a078"
      },
      "execution_count": 229,
      "outputs": [
        {
          "output_type": "execute_result",
          "data": {
            "text/plain": [
              "array(['TPC'], dtype=object)"
            ]
          },
          "metadata": {},
          "execution_count": 229
        }
      ]
    },
    {
      "cell_type": "code",
      "source": [
        "df_portos"
      ],
      "metadata": {
        "colab": {
          "base_uri": "https://localhost:8080/",
          "height": 1000
        },
        "id": "eWu7RmGK5Sta",
        "outputId": "537e12c4-f7e7-4ce8-dcac-9bb61789bb3f"
      },
      "execution_count": 233,
      "outputs": [
        {
          "output_type": "execute_result",
          "data": {
            "text/html": [
              "\n",
              "  <div id=\"df-53331660-2a62-493e-8f30-11c382b8479a\">\n",
              "    <div class=\"colab-df-container\">\n",
              "      <div>\n",
              "<style scoped>\n",
              "    .dataframe tbody tr th:only-of-type {\n",
              "        vertical-align: middle;\n",
              "    }\n",
              "\n",
              "    .dataframe tbody tr th {\n",
              "        vertical-align: top;\n",
              "    }\n",
              "\n",
              "    .dataframe thead th {\n",
              "        text-align: right;\n",
              "    }\n",
              "</style>\n",
              "<table border=\"1\" class=\"dataframe\">\n",
              "  <thead>\n",
              "    <tr style=\"text-align: right;\">\n",
              "      <th></th>\n",
              "      <th>Cod</th>\n",
              "      <th>Instalação</th>\n",
              "    </tr>\n",
              "  </thead>\n",
              "  <tbody>\n",
              "    <tr>\n",
              "      <th>0</th>\n",
              "      <td>ADR</td>\n",
              "      <td>Angra dos Reis</td>\n",
              "    </tr>\n",
              "    <tr>\n",
              "      <th>1</th>\n",
              "      <td>ANT</td>\n",
              "      <td>Antonina</td>\n",
              "    </tr>\n",
              "    <tr>\n",
              "      <th>2</th>\n",
              "      <td>ARB</td>\n",
              "      <td>Aratu</td>\n",
              "    </tr>\n",
              "    <tr>\n",
              "      <th>3</th>\n",
              "      <td>ARE</td>\n",
              "      <td>Areia Branca</td>\n",
              "    </tr>\n",
              "    <tr>\n",
              "      <th>4</th>\n",
              "      <td>BEL</td>\n",
              "      <td>Belém</td>\n",
              "    </tr>\n",
              "    <tr>\n",
              "      <th>5</th>\n",
              "      <td>CDO</td>\n",
              "      <td>Cabedelo</td>\n",
              "    </tr>\n",
              "    <tr>\n",
              "      <th>6</th>\n",
              "      <td>ETL</td>\n",
              "      <td>Estrela</td>\n",
              "    </tr>\n",
              "    <tr>\n",
              "      <th>7</th>\n",
              "      <td>FNO</td>\n",
              "      <td>Forno</td>\n",
              "    </tr>\n",
              "    <tr>\n",
              "      <th>8</th>\n",
              "      <td>FOR</td>\n",
              "      <td>Fortaleza</td>\n",
              "    </tr>\n",
              "    <tr>\n",
              "      <th>9</th>\n",
              "      <td>IOS</td>\n",
              "      <td>Ilhéus</td>\n",
              "    </tr>\n",
              "    <tr>\n",
              "      <th>10</th>\n",
              "      <td>IBB</td>\n",
              "      <td>Imbituba</td>\n",
              "    </tr>\n",
              "    <tr>\n",
              "      <th>11</th>\n",
              "      <td>IGI</td>\n",
              "      <td>Itaguaí (Sepetiba)</td>\n",
              "    </tr>\n",
              "    <tr>\n",
              "      <th>12</th>\n",
              "      <td>ITJ</td>\n",
              "      <td>Itajaí</td>\n",
              "    </tr>\n",
              "    <tr>\n",
              "      <th>13</th>\n",
              "      <td>IQI</td>\n",
              "      <td>Itaqui</td>\n",
              "    </tr>\n",
              "    <tr>\n",
              "      <th>14</th>\n",
              "      <td>LAG</td>\n",
              "      <td>Laguna</td>\n",
              "    </tr>\n",
              "    <tr>\n",
              "      <th>15</th>\n",
              "      <td>MCP</td>\n",
              "      <td>Macapá</td>\n",
              "    </tr>\n",
              "    <tr>\n",
              "      <th>16</th>\n",
              "      <td>MCZ</td>\n",
              "      <td>Maceió</td>\n",
              "    </tr>\n",
              "    <tr>\n",
              "      <th>17</th>\n",
              "      <td>MAO</td>\n",
              "      <td>Manaus</td>\n",
              "    </tr>\n",
              "    <tr>\n",
              "      <th>18</th>\n",
              "      <td>NAT</td>\n",
              "      <td>Natal</td>\n",
              "    </tr>\n",
              "    <tr>\n",
              "      <th>19</th>\n",
              "      <td>NTR</td>\n",
              "      <td>Niterói</td>\n",
              "    </tr>\n",
              "    <tr>\n",
              "      <th>20</th>\n",
              "      <td>PNG</td>\n",
              "      <td>Paranaguá</td>\n",
              "    </tr>\n",
              "    <tr>\n",
              "      <th>21</th>\n",
              "      <td>PET</td>\n",
              "      <td>Pelotas</td>\n",
              "    </tr>\n",
              "    <tr>\n",
              "      <th>22</th>\n",
              "      <td>POA</td>\n",
              "      <td>Porto Alegre</td>\n",
              "    </tr>\n",
              "    <tr>\n",
              "      <th>23</th>\n",
              "      <td>PVH</td>\n",
              "      <td>Porto Velho</td>\n",
              "    </tr>\n",
              "    <tr>\n",
              "      <th>24</th>\n",
              "      <td>REC</td>\n",
              "      <td>Recife</td>\n",
              "    </tr>\n",
              "    <tr>\n",
              "      <th>25</th>\n",
              "      <td>RIO</td>\n",
              "      <td>Rio de Janeiro</td>\n",
              "    </tr>\n",
              "    <tr>\n",
              "      <th>26</th>\n",
              "      <td>RIG</td>\n",
              "      <td>Rio Grande</td>\n",
              "    </tr>\n",
              "    <tr>\n",
              "      <th>27</th>\n",
              "      <td>SSA</td>\n",
              "      <td>Salvador</td>\n",
              "    </tr>\n",
              "    <tr>\n",
              "      <th>28</th>\n",
              "      <td>STM</td>\n",
              "      <td>Santarém</td>\n",
              "    </tr>\n",
              "    <tr>\n",
              "      <th>29</th>\n",
              "      <td>SSZ</td>\n",
              "      <td>Santos</td>\n",
              "    </tr>\n",
              "    <tr>\n",
              "      <th>30</th>\n",
              "      <td>SSO</td>\n",
              "      <td>São Sebastião</td>\n",
              "    </tr>\n",
              "    <tr>\n",
              "      <th>31</th>\n",
              "      <td>SFS</td>\n",
              "      <td>São Francisco do Sul</td>\n",
              "    </tr>\n",
              "    <tr>\n",
              "      <th>32</th>\n",
              "      <td>SUA</td>\n",
              "      <td>Suape</td>\n",
              "    </tr>\n",
              "    <tr>\n",
              "      <th>33</th>\n",
              "      <td>VDC</td>\n",
              "      <td>Vila do Conde</td>\n",
              "    </tr>\n",
              "    <tr>\n",
              "      <th>34</th>\n",
              "      <td>VIX</td>\n",
              "      <td>Vitória</td>\n",
              "    </tr>\n",
              "    <tr>\n",
              "      <th>35</th>\n",
              "      <td>PCL</td>\n",
              "      <td>Barra do Riacho</td>\n",
              "    </tr>\n",
              "    <tr>\n",
              "      <th>36</th>\n",
              "      <td>QDB</td>\n",
              "      <td>Cachoeira do Sul</td>\n",
              "    </tr>\n",
              "  </tbody>\n",
              "</table>\n",
              "</div>\n",
              "      <button class=\"colab-df-convert\" onclick=\"convertToInteractive('df-53331660-2a62-493e-8f30-11c382b8479a')\"\n",
              "              title=\"Convert this dataframe to an interactive table.\"\n",
              "              style=\"display:none;\">\n",
              "        \n",
              "  <svg xmlns=\"http://www.w3.org/2000/svg\" height=\"24px\"viewBox=\"0 0 24 24\"\n",
              "       width=\"24px\">\n",
              "    <path d=\"M0 0h24v24H0V0z\" fill=\"none\"/>\n",
              "    <path d=\"M18.56 5.44l.94 2.06.94-2.06 2.06-.94-2.06-.94-.94-2.06-.94 2.06-2.06.94zm-11 1L8.5 8.5l.94-2.06 2.06-.94-2.06-.94L8.5 2.5l-.94 2.06-2.06.94zm10 10l.94 2.06.94-2.06 2.06-.94-2.06-.94-.94-2.06-.94 2.06-2.06.94z\"/><path d=\"M17.41 7.96l-1.37-1.37c-.4-.4-.92-.59-1.43-.59-.52 0-1.04.2-1.43.59L10.3 9.45l-7.72 7.72c-.78.78-.78 2.05 0 2.83L4 21.41c.39.39.9.59 1.41.59.51 0 1.02-.2 1.41-.59l7.78-7.78 2.81-2.81c.8-.78.8-2.07 0-2.86zM5.41 20L4 18.59l7.72-7.72 1.47 1.35L5.41 20z\"/>\n",
              "  </svg>\n",
              "      </button>\n",
              "      \n",
              "  <style>\n",
              "    .colab-df-container {\n",
              "      display:flex;\n",
              "      flex-wrap:wrap;\n",
              "      gap: 12px;\n",
              "    }\n",
              "\n",
              "    .colab-df-convert {\n",
              "      background-color: #E8F0FE;\n",
              "      border: none;\n",
              "      border-radius: 50%;\n",
              "      cursor: pointer;\n",
              "      display: none;\n",
              "      fill: #1967D2;\n",
              "      height: 32px;\n",
              "      padding: 0 0 0 0;\n",
              "      width: 32px;\n",
              "    }\n",
              "\n",
              "    .colab-df-convert:hover {\n",
              "      background-color: #E2EBFA;\n",
              "      box-shadow: 0px 1px 2px rgba(60, 64, 67, 0.3), 0px 1px 3px 1px rgba(60, 64, 67, 0.15);\n",
              "      fill: #174EA6;\n",
              "    }\n",
              "\n",
              "    [theme=dark] .colab-df-convert {\n",
              "      background-color: #3B4455;\n",
              "      fill: #D2E3FC;\n",
              "    }\n",
              "\n",
              "    [theme=dark] .colab-df-convert:hover {\n",
              "      background-color: #434B5C;\n",
              "      box-shadow: 0px 1px 3px 1px rgba(0, 0, 0, 0.15);\n",
              "      filter: drop-shadow(0px 1px 2px rgba(0, 0, 0, 0.3));\n",
              "      fill: #FFFFFF;\n",
              "    }\n",
              "  </style>\n",
              "\n",
              "      <script>\n",
              "        const buttonEl =\n",
              "          document.querySelector('#df-53331660-2a62-493e-8f30-11c382b8479a button.colab-df-convert');\n",
              "        buttonEl.style.display =\n",
              "          google.colab.kernel.accessAllowed ? 'block' : 'none';\n",
              "\n",
              "        async function convertToInteractive(key) {\n",
              "          const element = document.querySelector('#df-53331660-2a62-493e-8f30-11c382b8479a');\n",
              "          const dataTable =\n",
              "            await google.colab.kernel.invokeFunction('convertToInteractive',\n",
              "                                                     [key], {});\n",
              "          if (!dataTable) return;\n",
              "\n",
              "          const docLinkHtml = 'Like what you see? Visit the ' +\n",
              "            '<a target=\"_blank\" href=https://colab.research.google.com/notebooks/data_table.ipynb>data table notebook</a>'\n",
              "            + ' to learn more about interactive tables.';\n",
              "          element.innerHTML = '';\n",
              "          dataTable['output_type'] = 'display_data';\n",
              "          await google.colab.output.renderOutput(dataTable, element);\n",
              "          const docLink = document.createElement('div');\n",
              "          docLink.innerHTML = docLinkHtml;\n",
              "          element.appendChild(docLink);\n",
              "        }\n",
              "      </script>\n",
              "    </div>\n",
              "  </div>\n",
              "  "
            ],
            "text/plain": [
              "    Cod              Instalação\n",
              "0   ADR        Angra dos Reis  \n",
              "1   ANT                Antonina\n",
              "2   ARB                 Aratu  \n",
              "3   ARE          Areia Branca  \n",
              "4   BEL                 Belém  \n",
              "5   CDO              Cabedelo  \n",
              "6   ETL                 Estrela\n",
              "7   FNO                  Forno \n",
              "8   FOR             Fortaleza  \n",
              "9   IOS                Ilhéus  \n",
              "10  IBB              Imbituba  \n",
              "11  IGI     Itaguaí (Sepetiba) \n",
              "12  ITJ                 Itajaí \n",
              "13  IQI                  Itaqui\n",
              "14  LAG                  Laguna\n",
              "15  MCP                  Macapá\n",
              "16  MCZ                  Maceió\n",
              "17  MAO                  Manaus\n",
              "18  NAT                   Natal\n",
              "19  NTR               Niterói  \n",
              "20  PNG               Paranaguá\n",
              "21  PET               Pelotas  \n",
              "22  POA          Porto Alegre  \n",
              "23  PVH           Porto Velho  \n",
              "24  REC                Recife  \n",
              "25  RIO         Rio de Janeiro \n",
              "26  RIG            Rio Grande  \n",
              "27  SSA               Salvador \n",
              "28  STM              Santarém  \n",
              "29  SSZ                Santos  \n",
              "30  SSO          São Sebastião \n",
              "31  SFS  São Francisco do Sul  \n",
              "32  SUA                 Suape  \n",
              "33  VDC          Vila do Conde \n",
              "34  VIX               Vitória  \n",
              "35  PCL         Barra do Riacho\n",
              "36  QDB        Cachoeira do Sul"
            ]
          },
          "metadata": {},
          "execution_count": 233
        }
      ]
    },
    {
      "cell_type": "code",
      "source": [
        ""
      ],
      "metadata": {
        "id": "BNCJvTWO5WtN"
      },
      "execution_count": null,
      "outputs": []
    }
  ]
}
{
  "nbformat": 4,
  "nbformat_minor": 0,
  "metadata": {
    "colab": {
      "name": "Análise_IDA_Indicadores.ipynb",
      "provenance": [],
      "mount_file_id": "1J4SVOx9MYrJauiMWPEUPT_yv76iTEIQs",
      "authorship_tag": "ABX9TyMVVihHuosiuDmrVE6QjcHC",
      "include_colab_link": true
    },
    "kernelspec": {
      "name": "python3",
      "display_name": "Python 3"
    },
    "language_info": {
      "name": "python"
    }
  },
  "cells": [
    {
      "cell_type": "markdown",
      "metadata": {
        "id": "view-in-github",
        "colab_type": "text"
      },
      "source": [
        "<a href=\"https://colab.research.google.com/github/Pugianf/ANTAQ/blob/main/An%C3%A1lise_IDA_Indicadores.ipynb\" target=\"_parent\"><img src=\"https://colab.research.google.com/assets/colab-badge.svg\" alt=\"Open In Colab\"/></a>"
      ]
    },
    {
      "cell_type": "markdown",
      "source": [
        "<h1>Data Analysis of IDA Indicators</h1>"
      ],
      "metadata": {
        "id": "wxyVpuWuCPUP"
      }
    },
    {
      "cell_type": "markdown",
      "source": [
        "### Settings\n"
      ],
      "metadata": {
        "id": "0zLLVDXGDVgc"
      }
    },
    {
      "cell_type": "code",
      "source": [
        "# importing libraries\n",
        "\n",
        "import pandas as pd\n",
        "import numpy as np\n",
        "import re\n",
        "\n",
        "#Installing FuzzyWuzzy\n",
        "\n",
        "!pip install fuzzywuzzy\n",
        "\n",
        "#Import\n",
        "import fuzzywuzzy\n",
        "from fuzzywuzzy import fuzz\n",
        "from fuzzywuzzy import process"
      ],
      "metadata": {
        "id": "8vmrQAFlDcB5",
        "colab": {
          "base_uri": "https://localhost:8080/"
        },
        "outputId": "5d884ad7-f033-4a2c-e0d3-ce21b9abb618"
      },
      "execution_count": 1,
      "outputs": [
        {
          "output_type": "stream",
          "name": "stdout",
          "text": [
            "Collecting fuzzywuzzy\n",
            "  Downloading fuzzywuzzy-0.18.0-py2.py3-none-any.whl (18 kB)\n",
            "Installing collected packages: fuzzywuzzy\n",
            "Successfully installed fuzzywuzzy-0.18.0\n"
          ]
        },
        {
          "output_type": "stream",
          "name": "stderr",
          "text": [
            "/usr/local/lib/python3.7/dist-packages/fuzzywuzzy/fuzz.py:11: UserWarning: Using slow pure-python SequenceMatcher. Install python-Levenshtein to remove this warning\n",
            "  warnings.warn('Using slow pure-python SequenceMatcher. Install python-Levenshtein to remove this warning')\n"
          ]
        }
      ]
    },
    {
      "cell_type": "code",
      "source": [
        "# connecting google drive\n",
        "\n",
        "from google.colab import drive\n",
        "drive.mount('/content/drive')"
      ],
      "metadata": {
        "colab": {
          "base_uri": "https://localhost:8080/"
        },
        "id": "5Rc5vFmVDmqX",
        "outputId": "973522fa-e4bb-47ac-fe93-102d1bd7f5af"
      },
      "execution_count": 40,
      "outputs": [
        {
          "output_type": "stream",
          "name": "stdout",
          "text": [
            "Drive already mounted at /content/drive; to attempt to forcibly remount, call drive.mount(\"/content/drive\", force_remount=True).\n"
          ]
        }
      ]
    },
    {
      "cell_type": "markdown",
      "source": [
        "### Importing CSV"
      ],
      "metadata": {
        "id": "8_difqnyDP07"
      }
    },
    {
      "cell_type": "code",
      "source": [
        "# getting data from IDA\n",
        "\n",
        "df_v1 = pd.read_csv('/content/drive/MyDrive/ANTAQ/Datasets/IDA/database_IDAv1.csv', encoding='latin1', sep=';')\n",
        "\n",
        "df_v2 = pd.read_csv('/content/drive/MyDrive/ANTAQ/Datasets/IDA/database_IDAv2.csv', encoding='latin1', sep=';')"
      ],
      "metadata": {
        "id": "AGCRZ5OJEw5g"
      },
      "execution_count": 41,
      "outputs": []
    },
    {
      "cell_type": "code",
      "source": [
        "# getting code of ports\n",
        "\n",
        "df_portos = pd.read_csv('/content/drive/MyDrive/ANTAQ/Datasets/IDA/Portos.csv', encoding='latin1', sep=';')\n",
        "\n",
        "df_tup = pd.read_csv('/content/drive/MyDrive/ANTAQ/Datasets/IDA/IDTerminal.csv', encoding='latin1', sep=';')"
      ],
      "metadata": {
        "id": "4e1BX2pvJmQY"
      },
      "execution_count": 42,
      "outputs": []
    },
    {
      "cell_type": "code",
      "source": [
        "# database got from IDA pdf's to check\n",
        "\n",
        "df_portos_pdf = pd.read_csv('/content/drive/MyDrive/ANTAQ/Datasets/IDA/Portos/Portos.csv', encoding='utf-8')\n",
        "\n",
        "df_tup_pdf = pd.read_csv('/content/drive/MyDrive/ANTAQ/Datasets/IDA/TUP/TUP.csv', encoding='utf-8')"
      ],
      "metadata": {
        "id": "sPWAWPUyajdT"
      },
      "execution_count": 43,
      "outputs": []
    },
    {
      "cell_type": "markdown",
      "source": [
        "### Wrangling Database"
      ],
      "metadata": {
        "id": "cBPCEjoAd8dF"
      }
    },
    {
      "cell_type": "code",
      "source": [
        "# setting the same column names in df_portos and df_tup to create a unique df_instalacoes\n",
        "\n",
        "df_portos = df_portos[['cdtrigrama', 'nome']].copy()\n",
        "df_portos.rename(columns={'cdtrigrama': 'Cod', 'nome': 'Instalação'}, inplace=True)\n",
        "df_tup.rename(columns={'IDTerminal': 'Cod', 'NOTerminal': 'Instalação'}, inplace=True)\n",
        "df_instalacoes = pd.concat([df_portos, df_tup])"
      ],
      "metadata": {
        "id": "_05j5R3Xtb3u"
      },
      "execution_count": 44,
      "outputs": []
    },
    {
      "cell_type": "code",
      "source": [
        "# including TPC Cod on df_portos\n",
        "\n",
        "df_TPC = pd.DataFrame({'Cod': ['TPC'], 'Instalação': ['Terminal Portuário do Pecém']})"
      ],
      "metadata": {
        "id": "wee5hGLbvF-X"
      },
      "execution_count": 45,
      "outputs": []
    },
    {
      "cell_type": "code",
      "source": [
        "# mergin TPC with df_portos\n",
        "\n",
        "df_portos = pd.concat([df_portos, df_TPC])"
      ],
      "metadata": {
        "id": "-IoFYqfIwOSp"
      },
      "execution_count": 46,
      "outputs": []
    },
    {
      "cell_type": "code",
      "source": [
        "# including column 'Tipo'\n",
        "\n",
        "df_portos['Tipo'] = 1\n",
        "df_tup['Tipo'] = 2"
      ],
      "metadata": {
        "id": "k7D8haPuOdX4"
      },
      "execution_count": 47,
      "outputs": []
    },
    {
      "cell_type": "code",
      "source": [
        "# checking NaN values and treating them\n",
        "\n",
        "print('Is there any NaN values in df_v1?', df_v1['DSAtributoQuestionario'].isnull().values.any())\n",
        "print('How many NaN values in df_v1?', df_v1['DSAtributoQuestionario'].isnull().sum())\n",
        "\n",
        "print('Is there any NaN values in df_v2?', df_v2.isnull().values.any())\n",
        "\n",
        "# Creating a column to explicit NaN values with 'Yes' or 'No'\n",
        "\n",
        "df_v1.loc[df_v1['DSAtributoQuestionario'].isnull(),'value_is_NaN'] = 'Yes'\n",
        "df_v1.loc[df_v1['DSAtributoQuestionario'].notnull(), 'value_is_NaN'] = 'No'\n",
        "\n",
        "# dropping NaN values\n",
        "\n",
        "df_v1.dropna(subset = ['DSAtributoQuestionario'], inplace=True)"
      ],
      "metadata": {
        "colab": {
          "base_uri": "https://localhost:8080/"
        },
        "id": "IBkI5kdrtycm",
        "outputId": "2348a5cf-957c-453e-80d8-669088e52bec"
      },
      "execution_count": 48,
      "outputs": [
        {
          "output_type": "stream",
          "name": "stdout",
          "text": [
            "Is there any NaN values in df_v1? True\n",
            "How many NaN values in df_v1? 1609\n",
            "Is there any NaN values in df_v2? False\n"
          ]
        }
      ]
    },
    {
      "cell_type": "code",
      "source": [
        "# checking type of columns in df_v2\n",
        "\n",
        "print(df_v2.dtypes)\n",
        "\n",
        "# filtering df_v2 for 'IDTipoAtributo' == 0\n",
        "\n",
        "df_v2 = df_v2[df_v2.IDTipoAtributo == 0].copy()\n",
        "\n",
        "# dropping 'IDTipoAtributo' and 'NRPeso'\n",
        "\n",
        "df_v2.drop(columns=['IDTipoAtributo', 'NRPeso', 'NRCategoriaQuestionario', 'NRIndicadorGlobalQuestionario'], inplace=True)"
      ],
      "metadata": {
        "colab": {
          "base_uri": "https://localhost:8080/"
        },
        "id": "9wamkB1rdo4i",
        "outputId": "4e24dca1-747f-4949-fc64-1e0fca6e2610"
      },
      "execution_count": 49,
      "outputs": [
        {
          "output_type": "stream",
          "name": "stdout",
          "text": [
            "CDInstalacaoPortuaria                       object\n",
            "IDTipoAtributo                               int64\n",
            "NOAtributoQuestionario                      object\n",
            "NRPeso                                      object\n",
            "NRIndicadorEspecificoQuestionario           object\n",
            "NOTituloIndicadorEspecificoQuestionario     object\n",
            "NRCategoriaQuestionario                    float64\n",
            "NRIndicadorGlobalQuestionario               object\n",
            "NOIndicadorGlobalQuestionario               object\n",
            "NOCategoriaQuestionario                     object\n",
            "NOAvaliacao                                 object\n",
            "dtype: object\n"
          ]
        }
      ]
    },
    {
      "cell_type": "code",
      "source": [
        "# creating a dictionary to map values in indicator column\n",
        "\n",
        "dict_indicador = {'1.1.1.1 Qual é a situação atual do Licenciamento Ambiental do porto? (C111)': 'Licenciamento Ambiental',\n",
        "                  '1.1.1.2 Quantos profissionais de interesse no Núcleo Ambiental? (C112)': 'Quantidade e Qualidade dos Técnicos',\n",
        "                  '1.1.1.3 Quantos treinamentos/capacitações ambientais os funcionários do Núcleo Ambiental recebem por ano? (C113)': 'Treinamento e Capacitação Ambiental',\n",
        "                  '1.1.1.4 Qual a situação atual da Auditoria Ambiental do porto? (C114)': 'Auditoria Ambiental',\n",
        "                  '1.1.2.1 O porto possui banco de dados oceanográficos/hidrológicos e meteorológicos/climatológicos próprio? (C121)': 'Base de Dados Oceano Meteorológicas',\n",
        "                  '1.1.2.2 Quantos planos foram elaborados e implementados no porto em relação à prevenção de riscos e atendimento a emergência? (C122)': 'Prevenção de Riscos',\n",
        "                  '1.1.2.3 Quantos acidentes ambientais ocorreram na Área do Porto Organizado (APO) e em seus arredores no último ano? (C123)': 'Ocorrência de Acidentes Ambientais',\n",
        "                  '1.1.3.1 Quais as ações de retirada dos resíduos de navios no porto? (C131)': 'Ações de Retirada de Resíduos do Navio',\n",
        "                  '1.1.3.2 Quais as ações relacionadas às operações de movimentação e armazenamento de contêineres com produtos perigosos? (C132)': 'Cargas Perigosas',\n",
        "                  '1.1.4.1 O porto busca reduzir o seu consumo de energia? (C141)': 'Consumo e Eficiência no Uso de Energia',\n",
        "                  '1.1.4.2 Há geração de energia limpa e renovável pelo porto para a sua utilização em atividades operacionais e/ou administrativas? (C142)': 'Tipos de Energia Utilizados',\n",
        "                  '1.1.4.3 O porto dispõe de sistema para fornecimento de energia (Onshore Power Supply - OPS) aos navios? (C143)': 'Fornecimento de Energia para Embarcações',\n",
        "                  '1.1.5.1 Como a internalização dos custos ambientais no orçamento é feita pelo porto? (C151)': 'Internalização dos Custos Ambientais',\n",
        "                  '1.1.6.1 Qual o nível de divulgação de informações ambientais do porto através do seu sítio eletrônico na Internet? (C161)': 'Comunicação das Ações Ambientais',\n",
        "                  '1.1.6.2 Em qual situação se encontra a Agenda Ambiental Local do porto? (C162)': 'Agenda Ambiental Local',\n",
        "                  '1.1.6.3 Qual a situação atual da Agenda Ambiental Institucional do porto? (C163)': 'Agenda Ambiental Institucional',\n",
        "                  '1.1.6.4 Quantas certificações voluntárias o porto possui? (C164)': 'Certificações Voluntárias',\n",
        "                  '1.1.7.1 A Autoridade Portuária acompanha e controla o desempenho ambiental dos terminais arrendados e/ou operadores avulsos? (C171)': 'Papel da Autoridade Portuária',\n",
        "                  '1.1.7.2 Qual a situação do licenciamento ambiental das empresas (terminais arrendados e/ou operadores avulsos)? (C172)': 'Licenciamento Ambiental das Empresas ',\n",
        "                  '1.1.7.3 Qual a situação do Plano de Emergência Individual - PEI dos terminais arrendados? (C173)': 'PEI dos Terminais',\n",
        "                  '1.1.7.4 Qual a situação das auditorias ambientais dos terminais arrendados? (C174)': 'Auditoria Ambiental dos Terminais',\n",
        "                  '1.1.7.5 Qual a situação dos Planos de Gerenciamento de Resíduos Sólidos - PGRS dos terminais arrendados? (C175)': 'PGRS dos Terminais',\n",
        "                  '1.1.7.6 Existem programas de educação ambiental promovidos pelos terminais arrendados? (C176)': 'Programa de EA nos Terminais',\n",
        "                  '1.1.7.7 Qual a situação das certificações voluntárias dos terminais arrendados? (C177)': 'Certificação das Empresas',\n",
        "                  '1.2.1.1 Há no porto a promoção de ações de educação ambiental? (C211)': 'Promoção de Ações de EA',\n",
        "                  '1.2.2.1 Quantas ações de promoção da saúde existem no porto? (C221)': 'Ações de Promoção da Saúde',\n",
        "                  '1.3.1.1 O porto realiza o monitoramento da qualidade da água do ambiente onde está inserido?  (C311)': 'Qualidade Ambiental do Corpo Hídrico',\n",
        "                  '1.3.1.2 Há drenagem pluvial no porto? (C312)': 'Drenagem Pluvial',\n",
        "                  '1.3.1.3 Qual a situação das ações de redução e reuso da água no porto? (C313)': 'Ações para Redução e Reúso da Água',\n",
        "                  '1.3.2.1 Qual a situação atual da área dragada e sua disposição no porto? (C321)': 'Área Dragada e de Disposição',\n",
        "                  '1.3.2.2 Há passivos ambientais relacionados no porto? (C322)': 'Passivos Ambientais',\n",
        "                  '1.3.3.1 Há monitoramento dos poluentes atmosféricos (gases e particulado) emitidos pelo porto? (C331)': 'Poluentes Atmosféricos',\n",
        "                  '1.3.3.2 Há monitoramento da poluição sonora emitida pelo porto? (C332)': 'Poluição Sonora',\n",
        "                  '1.3.4.1 Há gerenciamento de resíduos sólidos no porto? (C341)': 'PGRS',\n",
        "                  '1.4.1.1 Há monitoramento da fauna e flora no porto? (C411)': 'Monitoramento de Fauna e Flora',\n",
        "                  '1.4.1.2 Existe no porto um Programa Integrado de Controle e Monitoramento da Fauna Sinantrópica Nociva? (C412)': 'Animais Sinantrópicos',\n",
        "                  '1.4.1.3 Há algum levantamento ou monitoramento das espécies aquáticas exóticas/invasoras no porto? (C413)': 'Espécies Exóticas/Invasoras',\n",
        "                  '1.2.2.2 Há plano de contigência de saúde no porto? (C222)': 'Planos de Contingência de Saúde',\n",
        "                  '1.1.7.7 Existem programas de educação ambiental promovidos pelos terminais arrendados? (C177)': np.nan,\n",
        "                  '1.1.7.6 Qual a situação das certificações voluntárias dos terminais arrendados? (C176)': np.nan}"
      ],
      "metadata": {
        "id": "RDwfLqQD816S"
      },
      "execution_count": 50,
      "outputs": []
    },
    {
      "cell_type": "code",
      "source": [
        "# applying dictionary to 'DSIndicadorEspecificoQuestionario' df_v1 and dropping NaN values\n",
        "\n",
        "df_v1.replace({'DSIndicadorEspecificoQuestionario': dict_indicador}, inplace=True)\n",
        "\n",
        "# dropping NaN values\n",
        "\n",
        "df_v1.dropna(subset = ['DSAtributoQuestionario'], inplace=True)\n",
        "\n",
        "# checking for still NaN values\n",
        "\n",
        "print('Is there any NaN values in df_v1?', df_v1['DSAtributoQuestionario'].isnull().values.any())\n",
        "print('How many NaN values in df_v1?', df_v1['DSAtributoQuestionario'].isnull().sum())"
      ],
      "metadata": {
        "colab": {
          "base_uri": "https://localhost:8080/"
        },
        "id": "5ZCRMXrGIm8c",
        "outputId": "3fc69b13-05f7-46ff-f379-6f670a4b543a"
      },
      "execution_count": 51,
      "outputs": [
        {
          "output_type": "stream",
          "name": "stdout",
          "text": [
            "Is there any NaN values in df_v1? False\n",
            "How many NaN values in df_v1? 0\n"
          ]
        }
      ]
    },
    {
      "cell_type": "code",
      "source": [
        "# creating a close dict from fuzzywuzzy\n",
        "\n",
        "df1_global = list(df_v1.DSIndicadorGeralQuestionario.unique())\n",
        "df2_global = list(df_v2.NOIndicadorGlobalQuestionario.unique())\n",
        "\n",
        "def match_global(indicator, list_indicator, min_score=0):\n",
        "    max_score = -1\n",
        "    max_indicator = ''\n",
        "    for x in list_indicator:\n",
        "        score = fuzz.ratio(indicator, x)\n",
        "        if (score > min_score) & (score > max_score):\n",
        "            max_indicator = x\n",
        "            max_score = score\n",
        "    return (max_indicator, max_score)\n",
        "\n",
        "indicators = []\n",
        "for x in df1_global:\n",
        "    match = match_global(x, df2_global)\n",
        "    indicator = ('(' + str(x), str(match[0]) + ')')\n",
        "    indicators.append(indicator)\n",
        "indicator_dict = dict(indicators)\n",
        "indicator_dict"
      ],
      "metadata": {
        "colab": {
          "base_uri": "https://localhost:8080/"
        },
        "id": "4W-a2hOKizw8",
        "outputId": "5d77dd73-a3eb-444e-833e-d704bb307e57"
      },
      "execution_count": 52,
      "outputs": [
        {
          "output_type": "execute_result",
          "data": {
            "text/plain": [
              "{'(1.1.1 GOVERNANÇA AMBIENTAL (C11)': 'Monitoramento do Ar e do Ruído)',\n",
              " '(1.1.2 SEGURANÇA (C12)': 'Agenda Ambiental)',\n",
              " '(1.1.3 GESTÃO DAS OPERAÇÕES PORTUÁRIAS (C13)': 'Gestão das Operações Portuárias)',\n",
              " '(1.1.4 GERENCIAMENTO DE ENERGIA (C14)': 'Custos e Benefícios das Ações Ambientais)',\n",
              " '(1.1.5 CUSTOS E BENEFÍCIOS DAS AÇÕES AMBIENTAIS (C15)': 'Custos e Benefícios das Ações Ambientais)',\n",
              " '(1.1.6 AGENDA AMBIENTAL (C16)': 'Monitoramento do Ar e do Ruído)',\n",
              " '(1.1.7 GESTÃO CONDOMINIAL DO PORTO ORGANIZADO (C17)': 'Gestão Condominial do Porto Organizado)',\n",
              " '(1.2.1 EDUCAÇÃO AMBIENTAL (C21)': 'Agenda Ambiental)',\n",
              " '(1.2.2 SAÚDE PÚBLICA (C22)': 'Saúde Pública)',\n",
              " '(1.3.1 MONITORAMENTO DA ÁGUA (C31)': 'Custos e Benefícios das Ações Ambientais)',\n",
              " '(1.3.2 MONITORAMENTO DO SOLO E MATERIAL DRAGADO (C32)': 'Custos e Benefícios das Ações Ambientais)',\n",
              " '(1.3.3 MONITORAMENTO DO AR E RUÍDO (C33)': 'Monitoramento do Ar e do Ruído)',\n",
              " '(1.3.4 GERENCIAMENTO DE RESÍDUOS SÓLIDOS (C34)': 'Monitoramento do Ar e do Ruído)',\n",
              " '(1.4.1 BIODIVERSIDADE (C41)': 'Custos e Benefícios das Ações Ambientais)'}"
            ]
          },
          "metadata": {},
          "execution_count": 52
        }
      ]
    },
    {
      "cell_type": "code",
      "source": [
        "# creating final dict for Indicador Global\n",
        "\n",
        "dict_global_indicator = {'1.1.1 GOVERNANÇA AMBIENTAL (C11)': 'Governança Ambiental',\n",
        "                         '1.1.2 SEGURANÇA (C12)': 'Segurança',\n",
        "                         '1.1.3 GESTÃO DAS OPERAÇÕES PORTUÁRIAS (C13)': 'Gestão das Operações Portuárias',\n",
        "                         '1.1.4 GERENCIAMENTO DE ENERGIA (C14)': 'Gerenciamento de Energia',\n",
        "                         '1.1.5 CUSTOS E BENEFÍCIOS DAS AÇÕES AMBIENTAIS (C15)': 'Custos e Benefícios das Ações Ambientais',\n",
        "                         '1.1.6 AGENDA AMBIENTAL (C16)': 'Agenda Ambiental',\n",
        "                         '1.1.7 GESTÃO CONDOMINIAL DO PORTO ORGANIZADO (C17)': 'Gestão Condominial do Porto Organizado',\n",
        "                         '1.2.1 EDUCAÇÃO AMBIENTAL (C21)': 'Educação Ambiental',\n",
        "                         '1.2.2 SAÚDE PÚBLICA (C22)': 'Saúde Pública',\n",
        "                         '1.3.1 MONITORAMENTO DA ÁGUA (C31)': 'Monitoramento da Água',\n",
        "                         '1.3.2 MONITORAMENTO DO SOLO E MATERIAL DRAGADO (C32)': 'Monitoramento do Solo e do Material Dragado',\n",
        "                         '1.3.3 MONITORAMENTO DO AR E RUÍDO (C33)': 'Monitoramento do Ar e do Ruído',\n",
        "                         '1.3.4 GERENCIAMENTO DE RESÍDUOS SÓLIDOS (C34)': 'Monitoramento de Resíduos Sólidos',\n",
        "                         '1.4.1 BIODIVERSIDADE (C41)': 'Biodiversidade'}"
      ],
      "metadata": {
        "id": "COcXdYvcf-bB"
      },
      "execution_count": 53,
      "outputs": []
    },
    {
      "cell_type": "code",
      "source": [
        "# applying dictionary to 'DSIndicadorGeralQuestionario' df_v1 and dropping NaN values\n",
        "\n",
        "df_v1.replace({'DSIndicadorGeralQuestionario': dict_global_indicator}, inplace=True)"
      ],
      "metadata": {
        "id": "c5r-94xffko0"
      },
      "execution_count": 54,
      "outputs": []
    },
    {
      "cell_type": "code",
      "source": [
        "# dropping DSIndicadorEspecificoQuestionario and value_is_NaN columns\n",
        "\n",
        "df_v1.drop(columns=['DSAtributoQuestionario', 'value_is_NaN'], inplace=True)"
      ],
      "metadata": {
        "id": "Pi8-CsLNeqkP"
      },
      "execution_count": 55,
      "outputs": []
    },
    {
      "cell_type": "code",
      "source": [
        "# dropping NRIndicadorEspecificoQuestionario column\n",
        "\n",
        "df_v2.drop(columns=['NRIndicadorEspecificoQuestionario'], inplace=True)"
      ],
      "metadata": {
        "id": "j3_qVDzmpddl"
      },
      "execution_count": 56,
      "outputs": []
    },
    {
      "cell_type": "code",
      "source": [
        "# creating category dictionary with fuzz\n",
        "\n",
        "df1_category = list(df_v1.DSCategoriaQuestionario.unique())\n",
        "df2_category = list(df_v2.NOCategoriaQuestionario.unique())\n",
        "\n",
        "def match_category(category, list_category, min_score=0):\n",
        "    max_score = -1\n",
        "    max_category = ''\n",
        "    for x in list_category:\n",
        "        score = fuzz.ratio(category, x)\n",
        "        if (score > min_score) & (score > max_score):\n",
        "            max_category = x\n",
        "            max_score = score\n",
        "    return (max_category, max_score)\n",
        "\n",
        "categories = []\n",
        "for x in df1_category:\n",
        "    match = match_category(x, df2_category)\n",
        "    category = (str(x), str(match[0]))\n",
        "    categories.append(category)\n",
        "category_dict = dict(categories)\n",
        "category_dict"
      ],
      "metadata": {
        "colab": {
          "base_uri": "https://localhost:8080/"
        },
        "id": "RXPmZKjdqeo5",
        "outputId": "a513abaa-90d7-4c12-cb62-f31b2d8ffcc3"
      },
      "execution_count": 57,
      "outputs": [
        {
          "output_type": "execute_result",
          "data": {
            "text/plain": [
              "{'CATEGORIA BIOLÓGICO-ECOLÓGICOS (C4)': 'Biológico-Ecológicos',\n",
              " 'CATEGORIA ECONÔMICO-OPERACIONAIS (C1)': 'Econômico-Operacionais',\n",
              " 'CATEGORIA FÍSICO-QUÍMICOS (C3)': 'Físico-Químicos',\n",
              " 'CATEGORIA SOCIOLÓGICO-CULTURAIS (C2)': 'Sociológico-Culturais'}"
            ]
          },
          "metadata": {},
          "execution_count": 57
        }
      ]
    },
    {
      "cell_type": "code",
      "source": [
        "# applying dict to df_v1\n",
        "\n",
        "df_v1.replace({'DSCategoriaQuestionario': category_dict}, inplace=True)"
      ],
      "metadata": {
        "id": "3WwyOh0QrdJw"
      },
      "execution_count": 58,
      "outputs": []
    },
    {
      "cell_type": "code",
      "source": [
        "# renaming columns in df_v1 and df_v2\n",
        "\n",
        "df_v2.rename(columns={'CDInstalacaoPortuaria': 'Cod', 'NOAtributoQuestionario': 'Valor', 'NOTituloIndicadorEspecificoQuestionario': 'Indicador Específico',\n",
        "                      'NOIndicadorGlobalQuestionario': 'Indicador Global', 'NOCategoriaQuestionario': 'Categoria', 'NOAvaliacao': 'Ano'}, inplace=True)\n",
        "\n",
        "df_v1.rename(columns={'CDTrigrama': 'Cod', 'NOAtributoQuestionario': 'Valor', 'DSIndicadorEspecificoQuestionario': 'Indicador Específico',\n",
        "                      'DSIndicadorGeralQuestionario': 'Indicador Global', 'DSCategoriaQuestionario': 'Categoria', 'NOQUESTIONARIO': 'Ano'}, inplace=True)"
      ],
      "metadata": {
        "id": "SNqZaq8hqVBt"
      },
      "execution_count": 59,
      "outputs": []
    },
    {
      "cell_type": "code",
      "source": [
        "# dropping the special year for Cabedelo\n",
        "\n",
        "df_v2 = df_v2[df_v2.Ano != '2021 Cabedelo'].copy()"
      ],
      "metadata": {
        "id": "RLFpUr71vUir"
      },
      "execution_count": 60,
      "outputs": []
    },
    {
      "cell_type": "code",
      "source": [
        "# concat df_portos and df_tup for df_instalacao\n",
        "\n",
        "df_portos['Cod'] = df_portos['Cod'].astype(str)\n",
        "df_portos['Instalação'] = df_portos['Instalação'].astype(str)\n",
        "\n",
        "df_tup['Cod'] = df_tup['Cod'].astype(str)\n",
        "df_tup['Instalação'] = df_tup['Instalação'].astype(str)\n",
        "\n",
        "df_instalacao = pd.concat([df_tup, df_portos])"
      ],
      "metadata": {
        "id": "PRP0sKs4wagI"
      },
      "execution_count": 61,
      "outputs": []
    },
    {
      "cell_type": "code",
      "source": [
        "# concat df_v1 and df_v2 for df\n",
        "\n",
        "df = pd.concat([df_v1, df_v2])"
      ],
      "metadata": {
        "id": "L49NemWHzDIR"
      },
      "execution_count": 62,
      "outputs": []
    },
    {
      "cell_type": "code",
      "source": [
        "# stripping whitespace in Cod for df and df_instalacao, preparing to merge\n",
        "\n",
        "df['Cod'] = df['Cod'].str.strip()\n",
        "df_instalacao['Cod'] = df_instalacao['Cod'].str.strip()"
      ],
      "metadata": {
        "id": "CcAYVt5U54sL"
      },
      "execution_count": 63,
      "outputs": []
    },
    {
      "cell_type": "code",
      "source": [
        "# creating final DataFrame\n",
        "\n",
        "df = df.merge(df_instalacao, on='Cod', how='left')"
      ],
      "metadata": {
        "id": "exWriqMw2r7L"
      },
      "execution_count": 64,
      "outputs": []
    },
    {
      "cell_type": "code",
      "source": [
        "# using regex to exclude \\xa0 from Instalação column\n",
        "\n",
        "df['Instalação'] = [re.sub(r' *\\xa0$','', str(x)) for x in df['Instalação']]"
      ],
      "metadata": {
        "id": "muYPLfuZuIyD"
      },
      "execution_count": 65,
      "outputs": []
    },
    {
      "cell_type": "code",
      "source": [
        "# dropping 'Cod' column and setting final df\n",
        "\n",
        "df.drop(columns=['Cod'], inplace=True)\n",
        "\n",
        "df = df[['Ano', 'Instalação', 'Categoria', 'Indicador Global', 'Indicador Específico', 'Valor', 'Tipo']]"
      ],
      "metadata": {
        "id": "r7_DrFTTyVBW"
      },
      "execution_count": 66,
      "outputs": []
    },
    {
      "cell_type": "code",
      "source": [
        "# exporting CSV\n",
        "\n",
        "df.to_csv('/content/drive/MyDrive/ANTAQ/Datasets/IDA/DF_Final.csv', index = False)"
      ],
      "metadata": {
        "id": "VwrmKAuIyVcm"
      },
      "execution_count": 67,
      "outputs": []
    },
    {
      "cell_type": "code",
      "source": [
        "# creating dict for valor\n",
        "\n",
        "dict_valor = {'N1': 1,\n",
        "              'N2': 2,\n",
        "              'N3': 3,\n",
        "              'N4': 4,\n",
        "              'N5': 5}"
      ],
      "metadata": {
        "id": "vCAOhNslWWg7"
      },
      "execution_count": 68,
      "outputs": []
    },
    {
      "cell_type": "code",
      "source": [
        "# stripping whitespaces in Valor column\n",
        "\n",
        "df['Valor'] = df['Valor'].str.strip()"
      ],
      "metadata": {
        "id": "MyR6TQG9XF_k"
      },
      "execution_count": 69,
      "outputs": []
    },
    {
      "cell_type": "code",
      "source": [
        "# applying dict_valor\n",
        "\n",
        "df.replace({'Valor': dict_valor}, inplace=True)"
      ],
      "metadata": {
        "id": "YXtIdztwyloT"
      },
      "execution_count": 70,
      "outputs": []
    },
    {
      "cell_type": "markdown",
      "source": [
        "### Checking IDA participants year by year\n",
        "\n"
      ],
      "metadata": {
        "id": "h1uP4KGUaU2J"
      }
    },
    {
      "cell_type": "code",
      "source": [
        "# function that shows the difference between IDA System's pdf and SQL Database for TUPs\n",
        "\n",
        "df['Ano'] = df['Ano'].astype(str)\n",
        "anos_df = list(df['Ano'].unique())[6:-1]\n",
        "df_tup_pdf['Ano'] = df_tup_pdf['Ano'].astype(str)\n",
        "anos_pdf = list(df_tup_pdf['Ano'].unique())\n",
        "\n",
        "print('Diferença de TUP\\'s ano a ano\\n')\n",
        "print('--------------------------------------------------------------------------------')\n",
        "\n",
        "for i in range(6):\n",
        "  list_df_tup = sorted(df[(df.Ano == anos_df[i]) & (df.Tipo == 2)].Instalação.unique())\n",
        "  list_df_tup_pdf = sorted(df_tup_pdf[(df_tup_pdf.Ano == anos_pdf[i])].TUP.unique())\n",
        "  def diff(list1, list2):\n",
        "    c = set(list1).union(set(list2))\n",
        "    d = set(list1).intersection(set(list2))\n",
        "    return list(c - d)\n",
        "  diff_tup = diff(list_df_tup, list_df_tup_pdf)\n",
        "  print(f'Ano {anos_df[i]} -', 'Diferença Total:', len(diff_tup))\n",
        "  for count, x in enumerate(diff_tup):\n",
        "    print(f'{count + 1} -', x)\n",
        "  print('--------------------------------------------------------------------------------')"
      ],
      "metadata": {
        "colab": {
          "base_uri": "https://localhost:8080/"
        },
        "id": "rDvYHbVLiRm0",
        "outputId": "09d0b2e0-d49e-4ccf-e278-3bbde053a137"
      },
      "execution_count": 134,
      "outputs": [
        {
          "output_type": "stream",
          "name": "stdout",
          "text": [
            "Diferença de TUP's ano a ano\n",
            "\n",
            "--------------------------------------------------------------------------------\n",
            "Ano 2015.2 - Diferença Total: 5\n",
            "1 - Terminal J. F. de Oliveira de Belém\n",
            "2 - Terminal Braskem\n",
            "3 - Barra do Rio Terminal Portuário\n",
            "4 - Terminal Aquaviário da Ilha Comprida\n",
            "5 - Porto Sobramil\n",
            "--------------------------------------------------------------------------------\n",
            "Ano 2016.1 - Diferença Total: 3\n",
            "1 - Porto Engenheiro Zephyrino Lavanère Machado Filho\n",
            "2 - Terminal Aquaviário da Ilha Comprida\n",
            "3 - Porto Sobramil\n",
            "--------------------------------------------------------------------------------\n",
            "Ano 2017 - Diferença Total: 6\n",
            "1 - Brasco Rio\n",
            "2 - Porto CPA\n",
            "3 - Flexibrás Açu\n",
            "4 - Belmont\n",
            "5 - Cargill Agrícola\n",
            "6 - Terminal Aquaviário da Ilha Comprida\n",
            "--------------------------------------------------------------------------------\n",
            "Ano 2018 - Diferença Total: 2\n",
            "1 - Terminal CCPN\n",
            "2 - ATEM Manaus\n",
            "--------------------------------------------------------------------------------\n",
            "Ano 2019 - Diferença Total: 3\n",
            "1 - Terminal Aquaviário de Barra do Riacho\n",
            "2 - Teporti\n",
            "3 - Terminal Aquaviário de Ilha Redonda e Terminal Aquaviário da Ilha Comprida\n",
            "--------------------------------------------------------------------------------\n",
            "Ano 2020 - Diferença Total: 4\n",
            "1 - Terminal J. F. de Oliveira de Belém\n",
            "2 - Terminais Fluviais do Brasil\n",
            "3 - Terminal Flexível de GNL da Baía da Guanabara\n",
            "4 - Terminal Marítimo Inácio Barbosa - TMIB\n",
            "--------------------------------------------------------------------------------\n"
          ]
        }
      ]
    },
    {
      "cell_type": "code",
      "source": [
        "# function that shows the difference between IDA System's pdf and SQL Database for Ports\n",
        "\n",
        "print('Diferença de Portos ano a ano\\n')\n",
        "print('--------------------------------------------------------------------------------')\n",
        "\n",
        "for i in range(6):\n",
        "  list_df_portos = sorted(df[(df.Ano == anos_df[i]) & (df.Tipo == 1)].Instalação.unique())\n",
        "  list_df_portos_pdf = sorted(df_portos_pdf[(df_portos_pdf.Ano == int(anos_pdf[i]))].Porto.unique())\n",
        "  def diff(list1, list2):\n",
        "    c = set(list1).union(set(list2))\n",
        "    d = set(list1).intersection(set(list2))\n",
        "    return list(c - d)\n",
        "  diff_portos = diff(list_df_portos, list_df_portos_pdf)\n",
        "  print(f'Ano {anos_df[i]} -', 'Diferença Total:', len(diff_portos))\n",
        "  for count, x in enumerate(diff_portos):\n",
        "    print(f'{count + 1} -', x)\n",
        "  print('--------------------------------------------------------------------------------')"
      ],
      "metadata": {
        "colab": {
          "base_uri": "https://localhost:8080/"
        },
        "id": "bB7WSaCZiXEv",
        "outputId": "98337dbd-7591-41ac-9e4a-0c4429fd3db6"
      },
      "execution_count": 135,
      "outputs": [
        {
          "output_type": "stream",
          "name": "stdout",
          "text": [
            "Diferença de Portos ano a ano\n",
            "\n",
            "--------------------------------------------------------------------------------\n",
            "Ano 2015.2 - Diferença Total: 4\n",
            "1 - Itaguaí (Sepetiba)\n",
            "2 - Itaguaí\n",
            "3 - Santana\n",
            "4 - Macapá\n",
            "--------------------------------------------------------------------------------\n",
            "Ano 2016.1 - Diferença Total: 4\n",
            "1 - Itaguaí (Sepetiba)\n",
            "2 - Itaguaí\n",
            "3 - Santana\n",
            "4 - Macapá\n",
            "--------------------------------------------------------------------------------\n",
            "Ano 2017 - Diferença Total: 4\n",
            "1 - Itaguaí (Sepetiba)\n",
            "2 - Itaguaí\n",
            "3 - Santana\n",
            "4 - Macapá\n",
            "--------------------------------------------------------------------------------\n",
            "Ano 2018 - Diferença Total: 4\n",
            "1 - Itaguaí (Sepetiba)\n",
            "2 - Itaguaí\n",
            "3 - Santana\n",
            "4 - Macapá\n",
            "--------------------------------------------------------------------------------\n",
            "Ano 2019 - Diferença Total: 4\n",
            "1 - Itaguaí (Sepetiba)\n",
            "2 - Itaguaí\n",
            "3 - Santana\n",
            "4 - Macapá\n",
            "--------------------------------------------------------------------------------\n",
            "Ano 2020 - Diferença Total: 4\n",
            "1 - Itaguaí (Sepetiba)\n",
            "2 - Itaguaí\n",
            "3 - Santana\n",
            "4 - Macapá\n",
            "--------------------------------------------------------------------------------\n"
          ]
        }
      ]
    }
  ]
}